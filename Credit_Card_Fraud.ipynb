{
 "cells": [
  {
   "cell_type": "code",
   "execution_count": 31,
   "id": "surprising-double",
   "metadata": {},
   "outputs": [],
   "source": [
    "import numpy as np\n",
    "import pandas as pd\n",
    "import tensorflow as tf"
   ]
  },
  {
   "cell_type": "code",
   "execution_count": 32,
   "id": "welcome-bulletin",
   "metadata": {},
   "outputs": [],
   "source": [
    "import matplotlib.pyplot as plt\n",
    "from keras import models\n",
    "from keras import layers"
   ]
  },
  {
   "cell_type": "code",
   "execution_count": 33,
   "id": "funny-indie",
   "metadata": {},
   "outputs": [],
   "source": [
    "df= pd.read_csv(\"creditcard.csv\")"
   ]
  },
  {
   "cell_type": "code",
   "execution_count": 34,
   "id": "adjacent-antique",
   "metadata": {
    "scrolled": true
   },
   "outputs": [
    {
     "data": {
      "text/html": [
       "<div>\n",
       "<style scoped>\n",
       "    .dataframe tbody tr th:only-of-type {\n",
       "        vertical-align: middle;\n",
       "    }\n",
       "\n",
       "    .dataframe tbody tr th {\n",
       "        vertical-align: top;\n",
       "    }\n",
       "\n",
       "    .dataframe thead th {\n",
       "        text-align: right;\n",
       "    }\n",
       "</style>\n",
       "<table border=\"1\" class=\"dataframe\">\n",
       "  <thead>\n",
       "    <tr style=\"text-align: right;\">\n",
       "      <th></th>\n",
       "      <th>Time</th>\n",
       "      <th>V1</th>\n",
       "      <th>V2</th>\n",
       "      <th>V3</th>\n",
       "      <th>V4</th>\n",
       "      <th>V5</th>\n",
       "      <th>V6</th>\n",
       "      <th>V7</th>\n",
       "      <th>V8</th>\n",
       "      <th>V9</th>\n",
       "      <th>...</th>\n",
       "      <th>V21</th>\n",
       "      <th>V22</th>\n",
       "      <th>V23</th>\n",
       "      <th>V24</th>\n",
       "      <th>V25</th>\n",
       "      <th>V26</th>\n",
       "      <th>V27</th>\n",
       "      <th>V28</th>\n",
       "      <th>Amount</th>\n",
       "      <th>Class</th>\n",
       "    </tr>\n",
       "  </thead>\n",
       "  <tbody>\n",
       "    <tr>\n",
       "      <th>0</th>\n",
       "      <td>0.0</td>\n",
       "      <td>-1.359807</td>\n",
       "      <td>-0.072781</td>\n",
       "      <td>2.536347</td>\n",
       "      <td>1.378155</td>\n",
       "      <td>-0.338321</td>\n",
       "      <td>0.462388</td>\n",
       "      <td>0.239599</td>\n",
       "      <td>0.098698</td>\n",
       "      <td>0.363787</td>\n",
       "      <td>...</td>\n",
       "      <td>-0.018307</td>\n",
       "      <td>0.277838</td>\n",
       "      <td>-0.110474</td>\n",
       "      <td>0.066928</td>\n",
       "      <td>0.128539</td>\n",
       "      <td>-0.189115</td>\n",
       "      <td>0.133558</td>\n",
       "      <td>-0.021053</td>\n",
       "      <td>149.62</td>\n",
       "      <td>0</td>\n",
       "    </tr>\n",
       "    <tr>\n",
       "      <th>1</th>\n",
       "      <td>0.0</td>\n",
       "      <td>1.191857</td>\n",
       "      <td>0.266151</td>\n",
       "      <td>0.166480</td>\n",
       "      <td>0.448154</td>\n",
       "      <td>0.060018</td>\n",
       "      <td>-0.082361</td>\n",
       "      <td>-0.078803</td>\n",
       "      <td>0.085102</td>\n",
       "      <td>-0.255425</td>\n",
       "      <td>...</td>\n",
       "      <td>-0.225775</td>\n",
       "      <td>-0.638672</td>\n",
       "      <td>0.101288</td>\n",
       "      <td>-0.339846</td>\n",
       "      <td>0.167170</td>\n",
       "      <td>0.125895</td>\n",
       "      <td>-0.008983</td>\n",
       "      <td>0.014724</td>\n",
       "      <td>2.69</td>\n",
       "      <td>0</td>\n",
       "    </tr>\n",
       "    <tr>\n",
       "      <th>2</th>\n",
       "      <td>1.0</td>\n",
       "      <td>-1.358354</td>\n",
       "      <td>-1.340163</td>\n",
       "      <td>1.773209</td>\n",
       "      <td>0.379780</td>\n",
       "      <td>-0.503198</td>\n",
       "      <td>1.800499</td>\n",
       "      <td>0.791461</td>\n",
       "      <td>0.247676</td>\n",
       "      <td>-1.514654</td>\n",
       "      <td>...</td>\n",
       "      <td>0.247998</td>\n",
       "      <td>0.771679</td>\n",
       "      <td>0.909412</td>\n",
       "      <td>-0.689281</td>\n",
       "      <td>-0.327642</td>\n",
       "      <td>-0.139097</td>\n",
       "      <td>-0.055353</td>\n",
       "      <td>-0.059752</td>\n",
       "      <td>378.66</td>\n",
       "      <td>0</td>\n",
       "    </tr>\n",
       "    <tr>\n",
       "      <th>3</th>\n",
       "      <td>1.0</td>\n",
       "      <td>-0.966272</td>\n",
       "      <td>-0.185226</td>\n",
       "      <td>1.792993</td>\n",
       "      <td>-0.863291</td>\n",
       "      <td>-0.010309</td>\n",
       "      <td>1.247203</td>\n",
       "      <td>0.237609</td>\n",
       "      <td>0.377436</td>\n",
       "      <td>-1.387024</td>\n",
       "      <td>...</td>\n",
       "      <td>-0.108300</td>\n",
       "      <td>0.005274</td>\n",
       "      <td>-0.190321</td>\n",
       "      <td>-1.175575</td>\n",
       "      <td>0.647376</td>\n",
       "      <td>-0.221929</td>\n",
       "      <td>0.062723</td>\n",
       "      <td>0.061458</td>\n",
       "      <td>123.50</td>\n",
       "      <td>0</td>\n",
       "    </tr>\n",
       "    <tr>\n",
       "      <th>4</th>\n",
       "      <td>2.0</td>\n",
       "      <td>-1.158233</td>\n",
       "      <td>0.877737</td>\n",
       "      <td>1.548718</td>\n",
       "      <td>0.403034</td>\n",
       "      <td>-0.407193</td>\n",
       "      <td>0.095921</td>\n",
       "      <td>0.592941</td>\n",
       "      <td>-0.270533</td>\n",
       "      <td>0.817739</td>\n",
       "      <td>...</td>\n",
       "      <td>-0.009431</td>\n",
       "      <td>0.798278</td>\n",
       "      <td>-0.137458</td>\n",
       "      <td>0.141267</td>\n",
       "      <td>-0.206010</td>\n",
       "      <td>0.502292</td>\n",
       "      <td>0.219422</td>\n",
       "      <td>0.215153</td>\n",
       "      <td>69.99</td>\n",
       "      <td>0</td>\n",
       "    </tr>\n",
       "    <tr>\n",
       "      <th>...</th>\n",
       "      <td>...</td>\n",
       "      <td>...</td>\n",
       "      <td>...</td>\n",
       "      <td>...</td>\n",
       "      <td>...</td>\n",
       "      <td>...</td>\n",
       "      <td>...</td>\n",
       "      <td>...</td>\n",
       "      <td>...</td>\n",
       "      <td>...</td>\n",
       "      <td>...</td>\n",
       "      <td>...</td>\n",
       "      <td>...</td>\n",
       "      <td>...</td>\n",
       "      <td>...</td>\n",
       "      <td>...</td>\n",
       "      <td>...</td>\n",
       "      <td>...</td>\n",
       "      <td>...</td>\n",
       "      <td>...</td>\n",
       "      <td>...</td>\n",
       "    </tr>\n",
       "    <tr>\n",
       "      <th>284802</th>\n",
       "      <td>172786.0</td>\n",
       "      <td>-11.881118</td>\n",
       "      <td>10.071785</td>\n",
       "      <td>-9.834783</td>\n",
       "      <td>-2.066656</td>\n",
       "      <td>-5.364473</td>\n",
       "      <td>-2.606837</td>\n",
       "      <td>-4.918215</td>\n",
       "      <td>7.305334</td>\n",
       "      <td>1.914428</td>\n",
       "      <td>...</td>\n",
       "      <td>0.213454</td>\n",
       "      <td>0.111864</td>\n",
       "      <td>1.014480</td>\n",
       "      <td>-0.509348</td>\n",
       "      <td>1.436807</td>\n",
       "      <td>0.250034</td>\n",
       "      <td>0.943651</td>\n",
       "      <td>0.823731</td>\n",
       "      <td>0.77</td>\n",
       "      <td>0</td>\n",
       "    </tr>\n",
       "    <tr>\n",
       "      <th>284803</th>\n",
       "      <td>172787.0</td>\n",
       "      <td>-0.732789</td>\n",
       "      <td>-0.055080</td>\n",
       "      <td>2.035030</td>\n",
       "      <td>-0.738589</td>\n",
       "      <td>0.868229</td>\n",
       "      <td>1.058415</td>\n",
       "      <td>0.024330</td>\n",
       "      <td>0.294869</td>\n",
       "      <td>0.584800</td>\n",
       "      <td>...</td>\n",
       "      <td>0.214205</td>\n",
       "      <td>0.924384</td>\n",
       "      <td>0.012463</td>\n",
       "      <td>-1.016226</td>\n",
       "      <td>-0.606624</td>\n",
       "      <td>-0.395255</td>\n",
       "      <td>0.068472</td>\n",
       "      <td>-0.053527</td>\n",
       "      <td>24.79</td>\n",
       "      <td>0</td>\n",
       "    </tr>\n",
       "    <tr>\n",
       "      <th>284804</th>\n",
       "      <td>172788.0</td>\n",
       "      <td>1.919565</td>\n",
       "      <td>-0.301254</td>\n",
       "      <td>-3.249640</td>\n",
       "      <td>-0.557828</td>\n",
       "      <td>2.630515</td>\n",
       "      <td>3.031260</td>\n",
       "      <td>-0.296827</td>\n",
       "      <td>0.708417</td>\n",
       "      <td>0.432454</td>\n",
       "      <td>...</td>\n",
       "      <td>0.232045</td>\n",
       "      <td>0.578229</td>\n",
       "      <td>-0.037501</td>\n",
       "      <td>0.640134</td>\n",
       "      <td>0.265745</td>\n",
       "      <td>-0.087371</td>\n",
       "      <td>0.004455</td>\n",
       "      <td>-0.026561</td>\n",
       "      <td>67.88</td>\n",
       "      <td>0</td>\n",
       "    </tr>\n",
       "    <tr>\n",
       "      <th>284805</th>\n",
       "      <td>172788.0</td>\n",
       "      <td>-0.240440</td>\n",
       "      <td>0.530483</td>\n",
       "      <td>0.702510</td>\n",
       "      <td>0.689799</td>\n",
       "      <td>-0.377961</td>\n",
       "      <td>0.623708</td>\n",
       "      <td>-0.686180</td>\n",
       "      <td>0.679145</td>\n",
       "      <td>0.392087</td>\n",
       "      <td>...</td>\n",
       "      <td>0.265245</td>\n",
       "      <td>0.800049</td>\n",
       "      <td>-0.163298</td>\n",
       "      <td>0.123205</td>\n",
       "      <td>-0.569159</td>\n",
       "      <td>0.546668</td>\n",
       "      <td>0.108821</td>\n",
       "      <td>0.104533</td>\n",
       "      <td>10.00</td>\n",
       "      <td>0</td>\n",
       "    </tr>\n",
       "    <tr>\n",
       "      <th>284806</th>\n",
       "      <td>172792.0</td>\n",
       "      <td>-0.533413</td>\n",
       "      <td>-0.189733</td>\n",
       "      <td>0.703337</td>\n",
       "      <td>-0.506271</td>\n",
       "      <td>-0.012546</td>\n",
       "      <td>-0.649617</td>\n",
       "      <td>1.577006</td>\n",
       "      <td>-0.414650</td>\n",
       "      <td>0.486180</td>\n",
       "      <td>...</td>\n",
       "      <td>0.261057</td>\n",
       "      <td>0.643078</td>\n",
       "      <td>0.376777</td>\n",
       "      <td>0.008797</td>\n",
       "      <td>-0.473649</td>\n",
       "      <td>-0.818267</td>\n",
       "      <td>-0.002415</td>\n",
       "      <td>0.013649</td>\n",
       "      <td>217.00</td>\n",
       "      <td>0</td>\n",
       "    </tr>\n",
       "  </tbody>\n",
       "</table>\n",
       "<p>284807 rows × 31 columns</p>\n",
       "</div>"
      ],
      "text/plain": [
       "            Time         V1         V2        V3        V4        V5  \\\n",
       "0            0.0  -1.359807  -0.072781  2.536347  1.378155 -0.338321   \n",
       "1            0.0   1.191857   0.266151  0.166480  0.448154  0.060018   \n",
       "2            1.0  -1.358354  -1.340163  1.773209  0.379780 -0.503198   \n",
       "3            1.0  -0.966272  -0.185226  1.792993 -0.863291 -0.010309   \n",
       "4            2.0  -1.158233   0.877737  1.548718  0.403034 -0.407193   \n",
       "...          ...        ...        ...       ...       ...       ...   \n",
       "284802  172786.0 -11.881118  10.071785 -9.834783 -2.066656 -5.364473   \n",
       "284803  172787.0  -0.732789  -0.055080  2.035030 -0.738589  0.868229   \n",
       "284804  172788.0   1.919565  -0.301254 -3.249640 -0.557828  2.630515   \n",
       "284805  172788.0  -0.240440   0.530483  0.702510  0.689799 -0.377961   \n",
       "284806  172792.0  -0.533413  -0.189733  0.703337 -0.506271 -0.012546   \n",
       "\n",
       "              V6        V7        V8        V9  ...       V21       V22  \\\n",
       "0       0.462388  0.239599  0.098698  0.363787  ... -0.018307  0.277838   \n",
       "1      -0.082361 -0.078803  0.085102 -0.255425  ... -0.225775 -0.638672   \n",
       "2       1.800499  0.791461  0.247676 -1.514654  ...  0.247998  0.771679   \n",
       "3       1.247203  0.237609  0.377436 -1.387024  ... -0.108300  0.005274   \n",
       "4       0.095921  0.592941 -0.270533  0.817739  ... -0.009431  0.798278   \n",
       "...          ...       ...       ...       ...  ...       ...       ...   \n",
       "284802 -2.606837 -4.918215  7.305334  1.914428  ...  0.213454  0.111864   \n",
       "284803  1.058415  0.024330  0.294869  0.584800  ...  0.214205  0.924384   \n",
       "284804  3.031260 -0.296827  0.708417  0.432454  ...  0.232045  0.578229   \n",
       "284805  0.623708 -0.686180  0.679145  0.392087  ...  0.265245  0.800049   \n",
       "284806 -0.649617  1.577006 -0.414650  0.486180  ...  0.261057  0.643078   \n",
       "\n",
       "             V23       V24       V25       V26       V27       V28  Amount  \\\n",
       "0      -0.110474  0.066928  0.128539 -0.189115  0.133558 -0.021053  149.62   \n",
       "1       0.101288 -0.339846  0.167170  0.125895 -0.008983  0.014724    2.69   \n",
       "2       0.909412 -0.689281 -0.327642 -0.139097 -0.055353 -0.059752  378.66   \n",
       "3      -0.190321 -1.175575  0.647376 -0.221929  0.062723  0.061458  123.50   \n",
       "4      -0.137458  0.141267 -0.206010  0.502292  0.219422  0.215153   69.99   \n",
       "...          ...       ...       ...       ...       ...       ...     ...   \n",
       "284802  1.014480 -0.509348  1.436807  0.250034  0.943651  0.823731    0.77   \n",
       "284803  0.012463 -1.016226 -0.606624 -0.395255  0.068472 -0.053527   24.79   \n",
       "284804 -0.037501  0.640134  0.265745 -0.087371  0.004455 -0.026561   67.88   \n",
       "284805 -0.163298  0.123205 -0.569159  0.546668  0.108821  0.104533   10.00   \n",
       "284806  0.376777  0.008797 -0.473649 -0.818267 -0.002415  0.013649  217.00   \n",
       "\n",
       "        Class  \n",
       "0           0  \n",
       "1           0  \n",
       "2           0  \n",
       "3           0  \n",
       "4           0  \n",
       "...       ...  \n",
       "284802      0  \n",
       "284803      0  \n",
       "284804      0  \n",
       "284805      0  \n",
       "284806      0  \n",
       "\n",
       "[284807 rows x 31 columns]"
      ]
     },
     "execution_count": 34,
     "metadata": {},
     "output_type": "execute_result"
    }
   ],
   "source": [
    "df"
   ]
  },
  {
   "cell_type": "code",
   "execution_count": 35,
   "id": "important-infrastructure",
   "metadata": {},
   "outputs": [
    {
     "data": {
      "text/plain": [
       "0    284315\n",
       "1       492\n",
       "Name: Class, dtype: int64"
      ]
     },
     "execution_count": 35,
     "metadata": {},
     "output_type": "execute_result"
    }
   ],
   "source": [
    "df[\"Class\"].value_counts()"
   ]
  },
  {
   "cell_type": "code",
   "execution_count": 36,
   "id": "latest-adult",
   "metadata": {},
   "outputs": [
    {
     "data": {
      "text/plain": [
       "Index(['Time', 'V1', 'V2', 'V3', 'V4', 'V5', 'V6', 'V7', 'V8', 'V9', 'V10',\n",
       "       'V11', 'V12', 'V13', 'V14', 'V15', 'V16', 'V17', 'V18', 'V19', 'V20',\n",
       "       'V21', 'V22', 'V23', 'V24', 'V25', 'V26', 'V27', 'V28', 'Amount',\n",
       "       'Class'],\n",
       "      dtype='object')"
      ]
     },
     "execution_count": 36,
     "metadata": {},
     "output_type": "execute_result"
    }
   ],
   "source": [
    "df.columns"
   ]
  },
  {
   "cell_type": "code",
   "execution_count": 37,
   "id": "blind-holocaust",
   "metadata": {},
   "outputs": [],
   "source": [
    "final_data = df"
   ]
  },
  {
   "cell_type": "code",
   "execution_count": 38,
   "id": "black-settle",
   "metadata": {},
   "outputs": [
    {
     "data": {
      "text/plain": [
       "((284315, 31), (492, 31))"
      ]
     },
     "execution_count": 38,
     "metadata": {},
     "output_type": "execute_result"
    }
   ],
   "source": [
    "non_fraud=df[df[\"Class\"]==0]\n",
    "fraud = df[df[\"Class\"]==1]\n",
    "non_fraud.shape, fraud.shape"
   ]
  },
  {
   "cell_type": "code",
   "execution_count": 39,
   "id": "innocent-commonwealth",
   "metadata": {},
   "outputs": [
    {
     "data": {
      "text/plain": [
       "(492, 31)"
      ]
     },
     "execution_count": 39,
     "metadata": {},
     "output_type": "execute_result"
    }
   ],
   "source": [
    "non_fraud=non_fraud.sample(fraud.shape[0])\n",
    "non_fraud.shape"
   ]
  },
  {
   "cell_type": "code",
   "execution_count": 40,
   "id": "respiratory-tragedy",
   "metadata": {},
   "outputs": [
    {
     "data": {
      "text/plain": [
       "0    492\n",
       "1    492\n",
       "Name: Class, dtype: int64"
      ]
     },
     "execution_count": 40,
     "metadata": {},
     "output_type": "execute_result"
    }
   ],
   "source": [
    "data = fraud.append(non_fraud, ignore_index=True)\n",
    "data.shape\n",
    "data[\"Class\"].value_counts()"
   ]
  },
  {
   "cell_type": "code",
   "execution_count": 41,
   "id": "ready-starter",
   "metadata": {},
   "outputs": [],
   "source": [
    "x_data= data.drop(columns=\"Class\", axis=0)\n",
    "labels = data[\"Class\"]"
   ]
  },
  {
   "cell_type": "code",
   "execution_count": 42,
   "id": "french-plain",
   "metadata": {},
   "outputs": [
    {
     "data": {
      "text/plain": [
       "0      1\n",
       "6      1\n",
       "8      1\n",
       "10     1\n",
       "11     1\n",
       "      ..\n",
       "967    0\n",
       "972    0\n",
       "976    0\n",
       "982    0\n",
       "983    0\n",
       "Name: Class, Length: 281, dtype: int64"
      ]
     },
     "execution_count": 42,
     "metadata": {},
     "output_type": "execute_result"
    }
   ],
   "source": [
    "np.random.seed(12345)\n",
    "msk = np.random.rand(len(labels)) < 0.72\n",
    "train_label = labels[msk]\n",
    "test_label = labels[~msk]\n",
    "test_label"
   ]
  },
  {
   "cell_type": "code",
   "execution_count": 43,
   "id": "unlimited-marshall",
   "metadata": {},
   "outputs": [],
   "source": [
    "np.random.seed(12345)\n",
    "msk = np.random.rand(len(x_data)) < 0.72\n",
    "train_total = x_data[msk]\n",
    "test_total = x_data[~msk]"
   ]
  },
  {
   "cell_type": "code",
   "execution_count": 44,
   "id": "internal-boundary",
   "metadata": {},
   "outputs": [
    {
     "name": "stdout",
     "output_type": "stream",
     "text": [
      "703\n",
      "281\n"
     ]
    }
   ],
   "source": [
    "print(len(train_total))\n",
    "print(len(test_total))"
   ]
  },
  {
   "cell_type": "code",
   "execution_count": 45,
   "id": "incorporated-person",
   "metadata": {},
   "outputs": [
    {
     "name": "stdout",
     "output_type": "stream",
     "text": [
      "703\n",
      "281\n"
     ]
    }
   ],
   "source": [
    "print(len(train_label))\n",
    "print(len(test_label))"
   ]
  },
  {
   "cell_type": "code",
   "execution_count": 46,
   "id": "behavioral-assignment",
   "metadata": {},
   "outputs": [
    {
     "data": {
      "text/plain": [
       "((703, 30), (281, 30))"
      ]
     },
     "execution_count": 46,
     "metadata": {},
     "output_type": "execute_result"
    }
   ],
   "source": [
    "train_total.shape, test_total.shape"
   ]
  },
  {
   "cell_type": "code",
   "execution_count": 47,
   "id": "occupied-accordance",
   "metadata": {},
   "outputs": [],
   "source": [
    "mean=train_total.mean(axis=0)\n",
    "train_data= train_total-mean\n",
    "std=train_total.std(axis=0)\n",
    "train_data = (train_total-mean)/std\n",
    "test_data = (test_total-mean)/std"
   ]
  },
  {
   "cell_type": "code",
   "execution_count": 48,
   "id": "split-halifax",
   "metadata": {
    "scrolled": true
   },
   "outputs": [
    {
     "data": {
      "text/html": [
       "<div>\n",
       "<style scoped>\n",
       "    .dataframe tbody tr th:only-of-type {\n",
       "        vertical-align: middle;\n",
       "    }\n",
       "\n",
       "    .dataframe tbody tr th {\n",
       "        vertical-align: top;\n",
       "    }\n",
       "\n",
       "    .dataframe thead th {\n",
       "        text-align: right;\n",
       "    }\n",
       "</style>\n",
       "<table border=\"1\" class=\"dataframe\">\n",
       "  <thead>\n",
       "    <tr style=\"text-align: right;\">\n",
       "      <th></th>\n",
       "      <th>Time</th>\n",
       "      <th>V1</th>\n",
       "      <th>V2</th>\n",
       "      <th>V3</th>\n",
       "      <th>V4</th>\n",
       "      <th>V5</th>\n",
       "      <th>V6</th>\n",
       "      <th>V7</th>\n",
       "      <th>V8</th>\n",
       "      <th>V9</th>\n",
       "      <th>...</th>\n",
       "      <th>V20</th>\n",
       "      <th>V21</th>\n",
       "      <th>V22</th>\n",
       "      <th>V23</th>\n",
       "      <th>V24</th>\n",
       "      <th>V25</th>\n",
       "      <th>V26</th>\n",
       "      <th>V27</th>\n",
       "      <th>V28</th>\n",
       "      <th>Amount</th>\n",
       "    </tr>\n",
       "  </thead>\n",
       "  <tbody>\n",
       "    <tr>\n",
       "      <th>1</th>\n",
       "      <td>-1.839776</td>\n",
       "      <td>-0.104489</td>\n",
       "      <td>-1.330128</td>\n",
       "      <td>0.768611</td>\n",
       "      <td>-0.006893</td>\n",
       "      <td>0.691958</td>\n",
       "      <td>-0.188228</td>\n",
       "      <td>0.522101</td>\n",
       "      <td>-0.040676</td>\n",
       "      <td>0.435846</td>\n",
       "      <td>...</td>\n",
       "      <td>1.501971</td>\n",
       "      <td>0.083138</td>\n",
       "      <td>0.320917</td>\n",
       "      <td>1.055962</td>\n",
       "      <td>-0.391803</td>\n",
       "      <td>0.414616</td>\n",
       "      <td>-0.298684</td>\n",
       "      <td>-0.331724</td>\n",
       "      <td>0.008171</td>\n",
       "      <td>1.699577</td>\n",
       "    </tr>\n",
       "    <tr>\n",
       "      <th>2</th>\n",
       "      <td>-1.755556</td>\n",
       "      <td>0.030986</td>\n",
       "      <td>-0.024075</td>\n",
       "      <td>0.532898</td>\n",
       "      <td>0.006071</td>\n",
       "      <td>0.170357</td>\n",
       "      <td>0.374284</td>\n",
       "      <td>0.561426</td>\n",
       "      <td>-0.104315</td>\n",
       "      <td>0.449605</td>\n",
       "      <td>...</td>\n",
       "      <td>-0.474291</td>\n",
       "      <td>-0.222319</td>\n",
       "      <td>-0.748783</td>\n",
       "      <td>0.146550</td>\n",
       "      <td>-0.030052</td>\n",
       "      <td>-0.226167</td>\n",
       "      <td>-1.144705</td>\n",
       "      <td>-0.043054</td>\n",
       "      <td>-0.376938</td>\n",
       "      <td>0.533277</td>\n",
       "    </tr>\n",
       "    <tr>\n",
       "      <th>3</th>\n",
       "      <td>-1.702280</td>\n",
       "      <td>-0.352387</td>\n",
       "      <td>-0.130566</td>\n",
       "      <td>0.169435</td>\n",
       "      <td>0.115008</td>\n",
       "      <td>0.097069</td>\n",
       "      <td>-0.553202</td>\n",
       "      <td>-0.112715</td>\n",
       "      <td>-0.075436</td>\n",
       "      <td>0.445602</td>\n",
       "      <td>...</td>\n",
       "      <td>-0.272624</td>\n",
       "      <td>0.054978</td>\n",
       "      <td>0.118757</td>\n",
       "      <td>-0.313683</td>\n",
       "      <td>0.029216</td>\n",
       "      <td>0.374349</td>\n",
       "      <td>-1.389312</td>\n",
       "      <td>-0.898877</td>\n",
       "      <td>1.668217</td>\n",
       "      <td>-0.196714</td>\n",
       "    </tr>\n",
       "    <tr>\n",
       "      <th>4</th>\n",
       "      <td>-1.691029</td>\n",
       "      <td>0.678459</td>\n",
       "      <td>0.310767</td>\n",
       "      <td>-0.109173</td>\n",
       "      <td>0.754837</td>\n",
       "      <td>1.233396</td>\n",
       "      <td>-0.354828</td>\n",
       "      <td>0.752634</td>\n",
       "      <td>-0.122986</td>\n",
       "      <td>0.010084</td>\n",
       "      <td>...</td>\n",
       "      <td>-0.131630</td>\n",
       "      <td>-0.249451</td>\n",
       "      <td>-0.570318</td>\n",
       "      <td>-0.480412</td>\n",
       "      <td>-2.737529</td>\n",
       "      <td>2.191974</td>\n",
       "      <td>1.217935</td>\n",
       "      <td>-0.092014</td>\n",
       "      <td>0.234652</td>\n",
       "      <td>-0.430724</td>\n",
       "    </tr>\n",
       "    <tr>\n",
       "      <th>5</th>\n",
       "      <td>-1.690881</td>\n",
       "      <td>0.454103</td>\n",
       "      <td>0.607783</td>\n",
       "      <td>-0.424296</td>\n",
       "      <td>1.360361</td>\n",
       "      <td>0.550525</td>\n",
       "      <td>-1.489660</td>\n",
       "      <td>0.196982</td>\n",
       "      <td>0.002039</td>\n",
       "      <td>-0.626531</td>\n",
       "      <td>...</td>\n",
       "      <td>0.242431</td>\n",
       "      <td>-0.011830</td>\n",
       "      <td>-0.495148</td>\n",
       "      <td>-0.391773</td>\n",
       "      <td>0.348862</td>\n",
       "      <td>2.191356</td>\n",
       "      <td>1.092641</td>\n",
       "      <td>0.644462</td>\n",
       "      <td>0.982829</td>\n",
       "      <td>-0.430724</td>\n",
       "    </tr>\n",
       "    <tr>\n",
       "      <th>...</th>\n",
       "      <td>...</td>\n",
       "      <td>...</td>\n",
       "      <td>...</td>\n",
       "      <td>...</td>\n",
       "      <td>...</td>\n",
       "      <td>...</td>\n",
       "      <td>...</td>\n",
       "      <td>...</td>\n",
       "      <td>...</td>\n",
       "      <td>...</td>\n",
       "      <td>...</td>\n",
       "      <td>...</td>\n",
       "      <td>...</td>\n",
       "      <td>...</td>\n",
       "      <td>...</td>\n",
       "      <td>...</td>\n",
       "      <td>...</td>\n",
       "      <td>...</td>\n",
       "      <td>...</td>\n",
       "      <td>...</td>\n",
       "      <td>...</td>\n",
       "    </tr>\n",
       "    <tr>\n",
       "      <th>977</th>\n",
       "      <td>-0.439043</td>\n",
       "      <td>0.607494</td>\n",
       "      <td>-0.761738</td>\n",
       "      <td>0.855850</td>\n",
       "      <td>-0.025387</td>\n",
       "      <td>0.022956</td>\n",
       "      <td>1.155325</td>\n",
       "      <td>0.261016</td>\n",
       "      <td>0.072891</td>\n",
       "      <td>1.208750</td>\n",
       "      <td>...</td>\n",
       "      <td>-0.052065</td>\n",
       "      <td>-0.113531</td>\n",
       "      <td>0.125136</td>\n",
       "      <td>-0.204900</td>\n",
       "      <td>-0.524885</td>\n",
       "      <td>0.403836</td>\n",
       "      <td>2.614763</td>\n",
       "      <td>-0.099233</td>\n",
       "      <td>0.017555</td>\n",
       "      <td>0.204089</td>\n",
       "    </tr>\n",
       "    <tr>\n",
       "      <th>978</th>\n",
       "      <td>-0.545595</td>\n",
       "      <td>0.373777</td>\n",
       "      <td>-0.238223</td>\n",
       "      <td>0.825382</td>\n",
       "      <td>-0.789214</td>\n",
       "      <td>0.391516</td>\n",
       "      <td>0.191889</td>\n",
       "      <td>0.560456</td>\n",
       "      <td>-0.002271</td>\n",
       "      <td>0.317614</td>\n",
       "      <td>...</td>\n",
       "      <td>-0.074368</td>\n",
       "      <td>-0.193801</td>\n",
       "      <td>-0.478401</td>\n",
       "      <td>-0.038289</td>\n",
       "      <td>0.060060</td>\n",
       "      <td>-0.287872</td>\n",
       "      <td>0.173193</td>\n",
       "      <td>0.172627</td>\n",
       "      <td>0.151874</td>\n",
       "      <td>-0.427537</td>\n",
       "    </tr>\n",
       "    <tr>\n",
       "      <th>979</th>\n",
       "      <td>-0.650374</td>\n",
       "      <td>0.631724</td>\n",
       "      <td>-1.015420</td>\n",
       "      <td>0.716400</td>\n",
       "      <td>-1.063326</td>\n",
       "      <td>-0.176502</td>\n",
       "      <td>0.078105</td>\n",
       "      <td>0.287669</td>\n",
       "      <td>-0.052492</td>\n",
       "      <td>-0.070037</td>\n",
       "      <td>...</td>\n",
       "      <td>0.020265</td>\n",
       "      <td>-0.124303</td>\n",
       "      <td>-0.150154</td>\n",
       "      <td>-0.089512</td>\n",
       "      <td>0.786247</td>\n",
       "      <td>0.103769</td>\n",
       "      <td>-0.516364</td>\n",
       "      <td>-0.068463</td>\n",
       "      <td>0.096367</td>\n",
       "      <td>0.665291</td>\n",
       "    </tr>\n",
       "    <tr>\n",
       "      <th>980</th>\n",
       "      <td>0.942481</td>\n",
       "      <td>0.824333</td>\n",
       "      <td>-0.522502</td>\n",
       "      <td>0.358408</td>\n",
       "      <td>-0.663741</td>\n",
       "      <td>0.362398</td>\n",
       "      <td>-0.388485</td>\n",
       "      <td>0.537617</td>\n",
       "      <td>-0.110984</td>\n",
       "      <td>0.827513</td>\n",
       "      <td>...</td>\n",
       "      <td>-0.285875</td>\n",
       "      <td>-0.168522</td>\n",
       "      <td>-0.204711</td>\n",
       "      <td>0.142423</td>\n",
       "      <td>0.229402</td>\n",
       "      <td>0.033982</td>\n",
       "      <td>-0.167626</td>\n",
       "      <td>-0.136245</td>\n",
       "      <td>-0.183440</td>\n",
       "      <td>-0.317754</td>\n",
       "    </tr>\n",
       "    <tr>\n",
       "      <th>981</th>\n",
       "      <td>0.503524</td>\n",
       "      <td>0.132504</td>\n",
       "      <td>-0.337790</td>\n",
       "      <td>0.828898</td>\n",
       "      <td>-0.799775</td>\n",
       "      <td>0.320744</td>\n",
       "      <td>0.690203</td>\n",
       "      <td>0.502516</td>\n",
       "      <td>0.085202</td>\n",
       "      <td>1.012781</td>\n",
       "      <td>...</td>\n",
       "      <td>-0.140870</td>\n",
       "      <td>-0.219904</td>\n",
       "      <td>-0.464144</td>\n",
       "      <td>0.198661</td>\n",
       "      <td>1.182760</td>\n",
       "      <td>0.630303</td>\n",
       "      <td>-1.020484</td>\n",
       "      <td>0.032219</td>\n",
       "      <td>-0.069369</td>\n",
       "      <td>0.049441</td>\n",
       "    </tr>\n",
       "  </tbody>\n",
       "</table>\n",
       "<p>703 rows × 30 columns</p>\n",
       "</div>"
      ],
      "text/plain": [
       "         Time        V1        V2        V3        V4        V5        V6  \\\n",
       "1   -1.839776 -0.104489 -1.330128  0.768611 -0.006893  0.691958 -0.188228   \n",
       "2   -1.755556  0.030986 -0.024075  0.532898  0.006071  0.170357  0.374284   \n",
       "3   -1.702280 -0.352387 -0.130566  0.169435  0.115008  0.097069 -0.553202   \n",
       "4   -1.691029  0.678459  0.310767 -0.109173  0.754837  1.233396 -0.354828   \n",
       "5   -1.690881  0.454103  0.607783 -0.424296  1.360361  0.550525 -1.489660   \n",
       "..        ...       ...       ...       ...       ...       ...       ...   \n",
       "977 -0.439043  0.607494 -0.761738  0.855850 -0.025387  0.022956  1.155325   \n",
       "978 -0.545595  0.373777 -0.238223  0.825382 -0.789214  0.391516  0.191889   \n",
       "979 -0.650374  0.631724 -1.015420  0.716400 -1.063326 -0.176502  0.078105   \n",
       "980  0.942481  0.824333 -0.522502  0.358408 -0.663741  0.362398 -0.388485   \n",
       "981  0.503524  0.132504 -0.337790  0.828898 -0.799775  0.320744  0.690203   \n",
       "\n",
       "           V7        V8        V9  ...       V20       V21       V22  \\\n",
       "1    0.522101 -0.040676  0.435846  ...  1.501971  0.083138  0.320917   \n",
       "2    0.561426 -0.104315  0.449605  ... -0.474291 -0.222319 -0.748783   \n",
       "3   -0.112715 -0.075436  0.445602  ... -0.272624  0.054978  0.118757   \n",
       "4    0.752634 -0.122986  0.010084  ... -0.131630 -0.249451 -0.570318   \n",
       "5    0.196982  0.002039 -0.626531  ...  0.242431 -0.011830 -0.495148   \n",
       "..        ...       ...       ...  ...       ...       ...       ...   \n",
       "977  0.261016  0.072891  1.208750  ... -0.052065 -0.113531  0.125136   \n",
       "978  0.560456 -0.002271  0.317614  ... -0.074368 -0.193801 -0.478401   \n",
       "979  0.287669 -0.052492 -0.070037  ...  0.020265 -0.124303 -0.150154   \n",
       "980  0.537617 -0.110984  0.827513  ... -0.285875 -0.168522 -0.204711   \n",
       "981  0.502516  0.085202  1.012781  ... -0.140870 -0.219904 -0.464144   \n",
       "\n",
       "          V23       V24       V25       V26       V27       V28    Amount  \n",
       "1    1.055962 -0.391803  0.414616 -0.298684 -0.331724  0.008171  1.699577  \n",
       "2    0.146550 -0.030052 -0.226167 -1.144705 -0.043054 -0.376938  0.533277  \n",
       "3   -0.313683  0.029216  0.374349 -1.389312 -0.898877  1.668217 -0.196714  \n",
       "4   -0.480412 -2.737529  2.191974  1.217935 -0.092014  0.234652 -0.430724  \n",
       "5   -0.391773  0.348862  2.191356  1.092641  0.644462  0.982829 -0.430724  \n",
       "..        ...       ...       ...       ...       ...       ...       ...  \n",
       "977 -0.204900 -0.524885  0.403836  2.614763 -0.099233  0.017555  0.204089  \n",
       "978 -0.038289  0.060060 -0.287872  0.173193  0.172627  0.151874 -0.427537  \n",
       "979 -0.089512  0.786247  0.103769 -0.516364 -0.068463  0.096367  0.665291  \n",
       "980  0.142423  0.229402  0.033982 -0.167626 -0.136245 -0.183440 -0.317754  \n",
       "981  0.198661  1.182760  0.630303 -1.020484  0.032219 -0.069369  0.049441  \n",
       "\n",
       "[703 rows x 30 columns]"
      ]
     },
     "execution_count": 48,
     "metadata": {},
     "output_type": "execute_result"
    }
   ],
   "source": [
    "train_data"
   ]
  },
  {
   "cell_type": "code",
   "execution_count": 49,
   "id": "regulation-scholarship",
   "metadata": {},
   "outputs": [
    {
     "data": {
      "text/plain": [
       "0      1\n",
       "6      1\n",
       "8      1\n",
       "10     1\n",
       "11     1\n",
       "      ..\n",
       "967    0\n",
       "972    0\n",
       "976    0\n",
       "982    0\n",
       "983    0\n",
       "Name: Class, Length: 281, dtype: int64"
      ]
     },
     "execution_count": 49,
     "metadata": {},
     "output_type": "execute_result"
    }
   ],
   "source": [
    "test_label"
   ]
  },
  {
   "cell_type": "code",
   "execution_count": 50,
   "id": "lightweight-pottery",
   "metadata": {},
   "outputs": [],
   "source": [
    "test_data = np.array(test_data.iloc[:])\n",
    "train_data = np.array(train_data.iloc[:])"
   ]
  },
  {
   "cell_type": "code",
   "execution_count": 51,
   "id": "duplicate-interaction",
   "metadata": {},
   "outputs": [],
   "source": [
    "train_labels=np.asarray(train_label).astype(dtype=\"float64\")\n",
    "test_labels=np.asarray(test_label).astype(dtype=\"float64\")"
   ]
  },
  {
   "cell_type": "code",
   "execution_count": 52,
   "id": "stone-equilibrium",
   "metadata": {},
   "outputs": [],
   "source": [
    "model= models.Sequential()\n",
    "model.add(layers.Dense(20, activation=\"relu\", input_shape=(train_data.shape[1],)))\n",
    "#model.add(layers.Dropout(0.5))\n",
    "model.add(layers.Dense(10, activation=\"relu\"))\n",
    "#model.add(layers.Dropout(0.5))\n",
    "model.add(layers.Dense(8,activation=\"relu\"))\n",
    "#model.add(layers.Dropout(0.5))\n",
    "model.add(layers.Dense(6,activation=\"relu\"))\n",
    "#model.add(layers.Dropout(0.5))\n",
    "model.add(layers.Dense(1,activation=\"sigmoid\"))\n",
    "\n",
    "model.compile(optimizer=\"adam\", loss=\"binary_crossentropy\", metrics=[\"accuracy\"])"
   ]
  },
  {
   "cell_type": "code",
   "execution_count": 53,
   "id": "rolled-delight",
   "metadata": {},
   "outputs": [
    {
     "name": "stdout",
     "output_type": "stream",
     "text": [
      "Epoch 1/20\n",
      "18/18 [==============================] - 0s 12ms/step - loss: 0.6657 - accuracy: 0.5534 - val_loss: 0.7345 - val_accuracy: 0.1277\n",
      "Epoch 2/20\n",
      "18/18 [==============================] - 0s 2ms/step - loss: 0.5887 - accuracy: 0.6833 - val_loss: 0.7272 - val_accuracy: 0.2553\n",
      "Epoch 3/20\n",
      "18/18 [==============================] - 0s 2ms/step - loss: 0.5263 - accuracy: 0.7562 - val_loss: 0.6976 - val_accuracy: 0.5674\n",
      "Epoch 4/20\n",
      "18/18 [==============================] - 0s 3ms/step - loss: 0.4681 - accuracy: 0.8488 - val_loss: 0.6401 - val_accuracy: 0.8227\n",
      "Epoch 5/20\n",
      "18/18 [==============================] - 0s 2ms/step - loss: 0.4154 - accuracy: 0.8826 - val_loss: 0.5516 - val_accuracy: 0.9362\n",
      "Epoch 6/20\n",
      "18/18 [==============================] - 0s 3ms/step - loss: 0.3632 - accuracy: 0.8915 - val_loss: 0.4511 - val_accuracy: 0.9787\n",
      "Epoch 7/20\n",
      "18/18 [==============================] - 0s 2ms/step - loss: 0.3150 - accuracy: 0.8986 - val_loss: 0.3508 - val_accuracy: 0.9929\n",
      "Epoch 8/20\n",
      "18/18 [==============================] - 0s 2ms/step - loss: 0.2727 - accuracy: 0.9093 - val_loss: 0.3024 - val_accuracy: 0.9929\n",
      "Epoch 9/20\n",
      "18/18 [==============================] - 0s 2ms/step - loss: 0.2432 - accuracy: 0.9164 - val_loss: 0.2524 - val_accuracy: 0.9929\n",
      "Epoch 10/20\n",
      "18/18 [==============================] - 0s 2ms/step - loss: 0.2192 - accuracy: 0.9270 - val_loss: 0.2546 - val_accuracy: 0.9787\n",
      "Epoch 11/20\n",
      "18/18 [==============================] - 0s 3ms/step - loss: 0.2022 - accuracy: 0.9306 - val_loss: 0.2072 - val_accuracy: 0.9787\n",
      "Epoch 12/20\n",
      "18/18 [==============================] - 0s 3ms/step - loss: 0.1876 - accuracy: 0.9288 - val_loss: 0.2086 - val_accuracy: 0.9787\n",
      "Epoch 13/20\n",
      "18/18 [==============================] - 0s 2ms/step - loss: 0.1760 - accuracy: 0.9324 - val_loss: 0.2164 - val_accuracy: 0.9787\n",
      "Epoch 14/20\n",
      "18/18 [==============================] - 0s 2ms/step - loss: 0.1690 - accuracy: 0.9359 - val_loss: 0.1908 - val_accuracy: 0.9787\n",
      "Epoch 15/20\n",
      "18/18 [==============================] - 0s 2ms/step - loss: 0.1589 - accuracy: 0.9413 - val_loss: 0.2086 - val_accuracy: 0.9645\n",
      "Epoch 16/20\n",
      "18/18 [==============================] - 0s 3ms/step - loss: 0.1509 - accuracy: 0.9448 - val_loss: 0.2018 - val_accuracy: 0.9574\n",
      "Epoch 17/20\n",
      "18/18 [==============================] - 0s 2ms/step - loss: 0.1451 - accuracy: 0.9431 - val_loss: 0.1751 - val_accuracy: 0.9716\n",
      "Epoch 18/20\n",
      "18/18 [==============================] - 0s 2ms/step - loss: 0.1373 - accuracy: 0.9484 - val_loss: 0.1845 - val_accuracy: 0.9574\n",
      "Epoch 19/20\n",
      "18/18 [==============================] - 0s 2ms/step - loss: 0.1340 - accuracy: 0.9502 - val_loss: 0.1856 - val_accuracy: 0.9645\n",
      "Epoch 20/20\n",
      "18/18 [==============================] - 0s 2ms/step - loss: 0.1286 - accuracy: 0.9520 - val_loss: 0.1788 - val_accuracy: 0.9574\n"
     ]
    }
   ],
   "source": [
    "history=model.fit(train_data, train_labels, epochs=20, validation_split=.2)"
   ]
  },
  {
   "cell_type": "code",
   "execution_count": 54,
   "id": "rising-mouth",
   "metadata": {},
   "outputs": [
    {
     "data": {
      "image/png": "[encoded data removed]",
      "text/plain": [
       "<Figure size 432x288 with 1 Axes>"
      ]
     },
     "metadata": {
      "needs_background": "light"
     },
     "output_type": "display_data"
    }
   ],
   "source": [
    "loss=history.history[\"loss\"]\n",
    "val_loss=history.history[\"val_loss\"]\n",
    "epochs=range(1, len(loss)+1)\n",
    "plt.plot(epochs, loss, \"bo\", label=\"Training Loss\")\n",
    "plt.plot(epochs, val_loss, \"b\", label=\"Validation Loss\")\n",
    "plt.xlabel(\"Epochs\")\n",
    "plt.ylabel(\"Loss\")\n",
    "plt.legend()\n",
    "plt.show()"
   ]
  },
  {
   "cell_type": "code",
   "execution_count": 55,
   "id": "guilty-hunter",
   "metadata": {},
   "outputs": [
    {
     "data": {
      "image/png": "[encoded data removed]",
      "text/plain": [
       "<Figure size 432x288 with 1 Axes>"
      ]
     },
     "metadata": {
      "needs_background": "light"
     },
     "output_type": "display_data"
    }
   ],
   "source": [
    "acc=history.history[\"accuracy\"]\n",
    "val_acc=history.history[\"val_accuracy\"]\n",
    "epochs=range(1, len(acc)+1)\n",
    "plt.plot(epochs[:], acc[:], \"bo\", label=\"Training Accuracy\")\n",
    "plt.plot(epochs[:], val_acc[:], \"b\", label=\"Validation Accuracy\")\n",
    "plt.xlabel(\"Epochs\")\n",
    "plt.ylabel(\"Accuracy\")\n",
    "plt.legend()\n",
    "plt.show()"
   ]
  },
  {
   "cell_type": "code",
   "execution_count": 56,
   "id": "peripheral-protocol",
   "metadata": {},
   "outputs": [
    {
     "name": "stdout",
     "output_type": "stream",
     "text": [
      "9/9 [==============================] - 0s 2ms/step - loss: 0.2365 - accuracy: 0.9110\n"
     ]
    }
   ],
   "source": [
    "test_loss_score, test_acc_score=model.evaluate(test_data, test_labels)"
   ]
  },
  {
   "cell_type": "code",
   "execution_count": 57,
   "id": "dedicated-zoning",
   "metadata": {},
   "outputs": [
    {
     "data": {
      "text/plain": [
       "91.10320210456848"
      ]
     },
     "execution_count": 57,
     "metadata": {},
     "output_type": "execute_result"
    }
   ],
   "source": [
    "test_acc_score *100"
   ]
  },
  {
   "cell_type": "code",
   "execution_count": 58,
   "id": "resistant-session",
   "metadata": {},
   "outputs": [],
   "source": [
    "prediction=model.predict(test_data).astype(dtype=\"u8\")"
   ]
  },
  {
   "cell_type": "code",
   "execution_count": 59,
   "id": "discrete-internship",
   "metadata": {},
   "outputs": [
    {
     "data": {
      "text/plain": [
       "array([[0],\n",
       "       [0],\n",
       "       [0],\n",
       "       [0],\n",
       "       [0],\n",
       "       [0],\n",
       "       [0],\n",
       "       [0],\n",
       "       [0],\n",
       "       [1],\n",
       "       [0],\n",
       "       [1],\n",
       "       [0],\n",
       "       [0],\n",
       "       [0],\n",
       "       [0],\n",
       "       [0],\n",
       "       [1],\n",
       "       [1],\n",
       "       [1],\n",
       "       [1],\n",
       "       [1],\n",
       "       [1],\n",
       "       [1],\n",
       "       [1],\n",
       "       [1],\n",
       "       [1],\n",
       "       [1],\n",
       "       [0],\n",
       "       [0]], dtype=uint64)"
      ]
     },
     "execution_count": 59,
     "metadata": {},
     "output_type": "execute_result"
    }
   ],
   "source": [
    "prediction[:30]"
   ]
  },
  {
   "cell_type": "code",
   "execution_count": 60,
   "id": "early-granny",
   "metadata": {},
   "outputs": [
    {
     "data": {
      "text/plain": [
       "array([1., 1., 1., 1., 1., 1., 1., 1., 1., 1., 1., 1., 1., 1., 1., 1., 1.,\n",
       "       1., 1., 1., 1., 1., 1., 1., 1., 1., 1., 1., 1., 1.])"
      ]
     },
     "execution_count": 60,
     "metadata": {},
     "output_type": "execute_result"
    }
   ],
   "source": [
    "test_labels[:30]"
   ]
  },
  {
   "cell_type": "code",
   "execution_count": 61,
   "id": "consolidated-vampire",
   "metadata": {},
   "outputs": [],
   "source": [
    "predictions = model.predict(test_data)"
   ]
  },
  {
   "cell_type": "code",
   "execution_count": 62,
   "id": "warming-brake",
   "metadata": {},
   "outputs": [],
   "source": [
    "y_pred = (predictions > 0.5)"
   ]
  },
  {
   "cell_type": "code",
   "execution_count": 63,
   "id": "thorough-concentrate",
   "metadata": {},
   "outputs": [],
   "source": [
    "con = tf.math.confusion_matrix(\n",
    "    test_labels, y_pred, num_classes=2, weights=None, dtype=tf.dtypes.int32,\n",
    "    name=None\n",
    ")"
   ]
  },
  {
   "cell_type": "code",
   "execution_count": 64,
   "id": "tamil-inclusion",
   "metadata": {},
   "outputs": [
    {
     "data": {
      "text/plain": [
       "<tf.Tensor: shape=(2, 2), dtype=int32, numpy=\n",
       "array([[138,   8],\n",
       "       [ 17, 118]])>"
      ]
     },
     "execution_count": 64,
     "metadata": {},
     "output_type": "execute_result"
    }
   ],
   "source": [
    "con"
   ]
  }
 ],
 "metadata": {
  "kernelspec": {
   "display_name": "Python 3",
   "language": "python",
   "name": "python3"
  },
  "language_info": {
   "codemirror_mode": {
    "name": "ipython",
    "version": 3
   },
   "file_extension": ".py",
   "mimetype": "text/x-python",
   "name": "python",
   "nbconvert_exporter": "python",
   "pygments_lexer": "ipython3",
   "version": "3.7.10"
  }
 },
 "nbformat": 4,
 "nbformat_minor": 5
}
