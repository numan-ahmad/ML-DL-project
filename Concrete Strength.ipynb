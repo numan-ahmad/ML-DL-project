{
 "cells": [
  {
   "cell_type": "code",
   "execution_count": 56,
   "metadata": {
    "id": "NipDpuvkCmi6"
   },
   "outputs": [],
   "source": [
    "import pandas as pd\n",
    "import numpy as np\n",
    "import matplotlib.pyplot as plt"
   ]
  },
  {
   "cell_type": "code",
   "execution_count": 57,
   "metadata": {
    "id": "B_vpinNiCxTc"
   },
   "outputs": [],
   "source": [
    "data=pd.read_csv(\"compresive_strength_concrete.csv\")"
   ]
  },
  {
   "cell_type": "code",
   "execution_count": 58,
   "metadata": {
    "colab": {
     "base_uri": "https://localhost:8080/"
    },
    "id": "VcJwnsAHIgRW",
    "outputId": "ae5e6e22-0e87-46ca-b520-c9336626e6df"
   },
   "outputs": [
    {
     "data": {
      "text/plain": [
       "(1030, 9)"
      ]
     },
     "execution_count": 58,
     "metadata": {},
     "output_type": "execute_result"
    }
   ],
   "source": [
    "data.shape"
   ]
  },
  {
   "cell_type": "code",
   "execution_count": 59,
   "metadata": {
    "colab": {
     "base_uri": "https://localhost:8080/",
     "height": 326
    },
    "id": "U0yFP1M6Ikh-",
    "outputId": "769d5d3e-3100-4b3a-b009-cc08487e88a3"
   },
   "outputs": [
    {
     "data": {
      "text/html": [
       "<div>\n",
       "<style scoped>\n",
       "    .dataframe tbody tr th:only-of-type {\n",
       "        vertical-align: middle;\n",
       "    }\n",
       "\n",
       "    .dataframe tbody tr th {\n",
       "        vertical-align: top;\n",
       "    }\n",
       "\n",
       "    .dataframe thead th {\n",
       "        text-align: right;\n",
       "    }\n",
       "</style>\n",
       "<table border=\"1\" class=\"dataframe\">\n",
       "  <thead>\n",
       "    <tr style=\"text-align: right;\">\n",
       "      <th></th>\n",
       "      <th>Cement (component 1)(kg in a m^3 mixture)</th>\n",
       "      <th>Blast Furnace Slag (component 2)(kg in a m^3 mixture)</th>\n",
       "      <th>Fly Ash (component 3)(kg in a m^3 mixture)</th>\n",
       "      <th>Water  (component 4)(kg in a m^3 mixture)</th>\n",
       "      <th>Superplasticizer (component 5)(kg in a m^3 mixture)</th>\n",
       "      <th>Coarse Aggregate  (component 6)(kg in a m^3 mixture)</th>\n",
       "      <th>Fine Aggregate (component 7)(kg in a m^3 mixture)</th>\n",
       "      <th>Age (day)</th>\n",
       "      <th>Concrete compressive strength(MPa, megapascals)</th>\n",
       "    </tr>\n",
       "  </thead>\n",
       "  <tbody>\n",
       "    <tr>\n",
       "      <th>0</th>\n",
       "      <td>540.0</td>\n",
       "      <td>0.0</td>\n",
       "      <td>0.0</td>\n",
       "      <td>162.0</td>\n",
       "      <td>2.5</td>\n",
       "      <td>1040.0</td>\n",
       "      <td>676.0</td>\n",
       "      <td>28</td>\n",
       "      <td>79.99</td>\n",
       "    </tr>\n",
       "    <tr>\n",
       "      <th>1</th>\n",
       "      <td>540.0</td>\n",
       "      <td>0.0</td>\n",
       "      <td>0.0</td>\n",
       "      <td>162.0</td>\n",
       "      <td>2.5</td>\n",
       "      <td>1055.0</td>\n",
       "      <td>676.0</td>\n",
       "      <td>28</td>\n",
       "      <td>61.89</td>\n",
       "    </tr>\n",
       "    <tr>\n",
       "      <th>2</th>\n",
       "      <td>332.5</td>\n",
       "      <td>142.5</td>\n",
       "      <td>0.0</td>\n",
       "      <td>228.0</td>\n",
       "      <td>0.0</td>\n",
       "      <td>932.0</td>\n",
       "      <td>594.0</td>\n",
       "      <td>270</td>\n",
       "      <td>40.27</td>\n",
       "    </tr>\n",
       "    <tr>\n",
       "      <th>3</th>\n",
       "      <td>332.5</td>\n",
       "      <td>142.5</td>\n",
       "      <td>0.0</td>\n",
       "      <td>228.0</td>\n",
       "      <td>0.0</td>\n",
       "      <td>932.0</td>\n",
       "      <td>594.0</td>\n",
       "      <td>365</td>\n",
       "      <td>41.05</td>\n",
       "    </tr>\n",
       "    <tr>\n",
       "      <th>4</th>\n",
       "      <td>198.6</td>\n",
       "      <td>132.4</td>\n",
       "      <td>0.0</td>\n",
       "      <td>192.0</td>\n",
       "      <td>0.0</td>\n",
       "      <td>978.4</td>\n",
       "      <td>825.5</td>\n",
       "      <td>360</td>\n",
       "      <td>44.30</td>\n",
       "    </tr>\n",
       "  </tbody>\n",
       "</table>\n",
       "</div>"
      ],
      "text/plain": [
       "   Cement (component 1)(kg in a m^3 mixture)  \\\n",
       "0                                      540.0   \n",
       "1                                      540.0   \n",
       "2                                      332.5   \n",
       "3                                      332.5   \n",
       "4                                      198.6   \n",
       "\n",
       "   Blast Furnace Slag (component 2)(kg in a m^3 mixture)  \\\n",
       "0                                                0.0       \n",
       "1                                                0.0       \n",
       "2                                              142.5       \n",
       "3                                              142.5       \n",
       "4                                              132.4       \n",
       "\n",
       "   Fly Ash (component 3)(kg in a m^3 mixture)  \\\n",
       "0                                         0.0   \n",
       "1                                         0.0   \n",
       "2                                         0.0   \n",
       "3                                         0.0   \n",
       "4                                         0.0   \n",
       "\n",
       "   Water  (component 4)(kg in a m^3 mixture)  \\\n",
       "0                                      162.0   \n",
       "1                                      162.0   \n",
       "2                                      228.0   \n",
       "3                                      228.0   \n",
       "4                                      192.0   \n",
       "\n",
       "   Superplasticizer (component 5)(kg in a m^3 mixture)  \\\n",
       "0                                                2.5     \n",
       "1                                                2.5     \n",
       "2                                                0.0     \n",
       "3                                                0.0     \n",
       "4                                                0.0     \n",
       "\n",
       "   Coarse Aggregate  (component 6)(kg in a m^3 mixture)  \\\n",
       "0                                             1040.0      \n",
       "1                                             1055.0      \n",
       "2                                              932.0      \n",
       "3                                              932.0      \n",
       "4                                              978.4      \n",
       "\n",
       "   Fine Aggregate (component 7)(kg in a m^3 mixture)  Age (day)  \\\n",
       "0                                              676.0         28   \n",
       "1                                              676.0         28   \n",
       "2                                              594.0        270   \n",
       "3                                              594.0        365   \n",
       "4                                              825.5        360   \n",
       "\n",
       "   Concrete compressive strength(MPa, megapascals)   \n",
       "0                                             79.99  \n",
       "1                                             61.89  \n",
       "2                                             40.27  \n",
       "3                                             41.05  \n",
       "4                                             44.30  "
      ]
     },
     "execution_count": 59,
     "metadata": {},
     "output_type": "execute_result"
    }
   ],
   "source": [
    "data.head()"
   ]
  },
  {
   "cell_type": "code",
   "execution_count": 60,
   "metadata": {},
   "outputs": [
    {
     "data": {
      "text/plain": [
       "Cement (component 1)(kg in a m^3 mixture)                0\n",
       "Blast Furnace Slag (component 2)(kg in a m^3 mixture)    0\n",
       "Fly Ash (component 3)(kg in a m^3 mixture)               0\n",
       "Water  (component 4)(kg in a m^3 mixture)                0\n",
       "Superplasticizer (component 5)(kg in a m^3 mixture)      0\n",
       "Coarse Aggregate  (component 6)(kg in a m^3 mixture)     0\n",
       "Fine Aggregate (component 7)(kg in a m^3 mixture)        0\n",
       "Age (day)                                                0\n",
       "Concrete compressive strength(MPa, megapascals)          0\n",
       "dtype: int64"
      ]
     },
     "execution_count": 60,
     "metadata": {},
     "output_type": "execute_result"
    }
   ],
   "source": [
    "data.isnull().sum()"
   ]
  },
  {
   "cell_type": "code",
   "execution_count": 61,
   "metadata": {},
   "outputs": [
    {
     "data": {
      "text/plain": [
       "(array([], dtype=int64), array([], dtype=int64))"
      ]
     },
     "execution_count": 61,
     "metadata": {},
     "output_type": "execute_result"
    }
   ],
   "source": [
    "np.where(data.applymap(lambda x: x == ''))"
   ]
  },
  {
   "cell_type": "code",
   "execution_count": 62,
   "metadata": {},
   "outputs": [],
   "source": [
    "X_train = data.sample(frac = 0.7, random_state = 123)\n",
    "X_test = data.drop(X_train.index)"
   ]
  },
  {
   "cell_type": "code",
   "execution_count": 63,
   "metadata": {},
   "outputs": [
    {
     "data": {
      "text/html": [
       "<div>\n",
       "<style scoped>\n",
       "    .dataframe tbody tr th:only-of-type {\n",
       "        vertical-align: middle;\n",
       "    }\n",
       "\n",
       "    .dataframe tbody tr th {\n",
       "        vertical-align: top;\n",
       "    }\n",
       "\n",
       "    .dataframe thead th {\n",
       "        text-align: right;\n",
       "    }\n",
       "</style>\n",
       "<table border=\"1\" class=\"dataframe\">\n",
       "  <thead>\n",
       "    <tr style=\"text-align: right;\">\n",
       "      <th></th>\n",
       "      <th>Cement (component 1)(kg in a m^3 mixture)</th>\n",
       "      <th>Blast Furnace Slag (component 2)(kg in a m^3 mixture)</th>\n",
       "      <th>Fly Ash (component 3)(kg in a m^3 mixture)</th>\n",
       "      <th>Water  (component 4)(kg in a m^3 mixture)</th>\n",
       "      <th>Superplasticizer (component 5)(kg in a m^3 mixture)</th>\n",
       "      <th>Coarse Aggregate  (component 6)(kg in a m^3 mixture)</th>\n",
       "      <th>Fine Aggregate (component 7)(kg in a m^3 mixture)</th>\n",
       "      <th>Age (day)</th>\n",
       "      <th>Concrete compressive strength(MPa, megapascals)</th>\n",
       "    </tr>\n",
       "  </thead>\n",
       "  <tbody>\n",
       "    <tr>\n",
       "      <th>134</th>\n",
       "      <td>362.6</td>\n",
       "      <td>189.0</td>\n",
       "      <td>0.0</td>\n",
       "      <td>164.9</td>\n",
       "      <td>11.6</td>\n",
       "      <td>944.7</td>\n",
       "      <td>755.8</td>\n",
       "      <td>28</td>\n",
       "      <td>71.30</td>\n",
       "    </tr>\n",
       "    <tr>\n",
       "      <th>13</th>\n",
       "      <td>190.0</td>\n",
       "      <td>190.0</td>\n",
       "      <td>0.0</td>\n",
       "      <td>228.0</td>\n",
       "      <td>0.0</td>\n",
       "      <td>932.0</td>\n",
       "      <td>670.0</td>\n",
       "      <td>90</td>\n",
       "      <td>42.33</td>\n",
       "    </tr>\n",
       "    <tr>\n",
       "      <th>996</th>\n",
       "      <td>152.6</td>\n",
       "      <td>238.7</td>\n",
       "      <td>0.0</td>\n",
       "      <td>200.0</td>\n",
       "      <td>6.3</td>\n",
       "      <td>1001.8</td>\n",
       "      <td>683.9</td>\n",
       "      <td>28</td>\n",
       "      <td>26.86</td>\n",
       "    </tr>\n",
       "    <tr>\n",
       "      <th>770</th>\n",
       "      <td>349.0</td>\n",
       "      <td>0.0</td>\n",
       "      <td>0.0</td>\n",
       "      <td>192.0</td>\n",
       "      <td>0.0</td>\n",
       "      <td>1047.0</td>\n",
       "      <td>806.0</td>\n",
       "      <td>3</td>\n",
       "      <td>14.99</td>\n",
       "    </tr>\n",
       "    <tr>\n",
       "      <th>937</th>\n",
       "      <td>313.3</td>\n",
       "      <td>0.0</td>\n",
       "      <td>113.0</td>\n",
       "      <td>178.5</td>\n",
       "      <td>8.0</td>\n",
       "      <td>1001.9</td>\n",
       "      <td>688.7</td>\n",
       "      <td>28</td>\n",
       "      <td>36.80</td>\n",
       "    </tr>\n",
       "  </tbody>\n",
       "</table>\n",
       "</div>"
      ],
      "text/plain": [
       "     Cement (component 1)(kg in a m^3 mixture)  \\\n",
       "134                                      362.6   \n",
       "13                                       190.0   \n",
       "996                                      152.6   \n",
       "770                                      349.0   \n",
       "937                                      313.3   \n",
       "\n",
       "     Blast Furnace Slag (component 2)(kg in a m^3 mixture)  \\\n",
       "134                                              189.0       \n",
       "13                                               190.0       \n",
       "996                                              238.7       \n",
       "770                                                0.0       \n",
       "937                                                0.0       \n",
       "\n",
       "     Fly Ash (component 3)(kg in a m^3 mixture)  \\\n",
       "134                                         0.0   \n",
       "13                                          0.0   \n",
       "996                                         0.0   \n",
       "770                                         0.0   \n",
       "937                                       113.0   \n",
       "\n",
       "     Water  (component 4)(kg in a m^3 mixture)  \\\n",
       "134                                      164.9   \n",
       "13                                       228.0   \n",
       "996                                      200.0   \n",
       "770                                      192.0   \n",
       "937                                      178.5   \n",
       "\n",
       "     Superplasticizer (component 5)(kg in a m^3 mixture)  \\\n",
       "134                                               11.6     \n",
       "13                                                 0.0     \n",
       "996                                                6.3     \n",
       "770                                                0.0     \n",
       "937                                                8.0     \n",
       "\n",
       "     Coarse Aggregate  (component 6)(kg in a m^3 mixture)  \\\n",
       "134                                              944.7      \n",
       "13                                               932.0      \n",
       "996                                             1001.8      \n",
       "770                                             1047.0      \n",
       "937                                             1001.9      \n",
       "\n",
       "     Fine Aggregate (component 7)(kg in a m^3 mixture)  Age (day)  \\\n",
       "134                                              755.8         28   \n",
       "13                                               670.0         90   \n",
       "996                                              683.9         28   \n",
       "770                                              806.0          3   \n",
       "937                                              688.7         28   \n",
       "\n",
       "     Concrete compressive strength(MPa, megapascals)   \n",
       "134                                             71.30  \n",
       "13                                              42.33  \n",
       "996                                             26.86  \n",
       "770                                             14.99  \n",
       "937                                             36.80  "
      ]
     },
     "execution_count": 63,
     "metadata": {},
     "output_type": "execute_result"
    }
   ],
   "source": [
    "X_train.head()"
   ]
  },
  {
   "cell_type": "markdown",
   "metadata": {
    "id": "CcvbbUpmJFCi"
   },
   "source": [
    "#Assigning features and target variable"
   ]
  },
  {
   "cell_type": "code",
   "execution_count": 64,
   "metadata": {
    "id": "OTv_VabYIj83"
   },
   "outputs": [],
   "source": [
    "Y_train = X_train.iloc[:,-1]\n",
    "X_train = X_train.iloc[:,0:-1]\n",
    "Y_test = X_test.iloc[:,-1]\n",
    "X_test = X_test.iloc[:,0:-1]"
   ]
  },
  {
   "cell_type": "code",
   "execution_count": 65,
   "metadata": {
    "id": "KHF-Yeo2JTyg"
   },
   "outputs": [],
   "source": [
    "X_mean = X_train.mean()\n",
    "X_train -= X_mean\n",
    "X_std = X_train.std()\n",
    "X_train /= X_std\n",
    "X_test -= X_mean\n",
    "X_test /= X_std"
   ]
  },
  {
   "cell_type": "code",
   "execution_count": 66,
   "metadata": {},
   "outputs": [],
   "source": [
    "Y_mean = Y_train.mean()\n",
    "Y_train -= Y_mean\n",
    "Y_std = Y_train.std()\n",
    "Y_train /= Y_std\n",
    "Y_test -= Y_mean\n",
    "Y_test /= Y_std"
   ]
  },
  {
   "cell_type": "code",
   "execution_count": 67,
   "metadata": {},
   "outputs": [
    {
     "data": {
      "text/plain": [
       "Cement (component 1)(kg in a m^3 mixture)                float64\n",
       "Blast Furnace Slag (component 2)(kg in a m^3 mixture)    float64\n",
       "Fly Ash (component 3)(kg in a m^3 mixture)               float64\n",
       "Water  (component 4)(kg in a m^3 mixture)                float64\n",
       "Superplasticizer (component 5)(kg in a m^3 mixture)      float64\n",
       "Coarse Aggregate  (component 6)(kg in a m^3 mixture)     float64\n",
       "Fine Aggregate (component 7)(kg in a m^3 mixture)        float64\n",
       "Age (day)                                                float64\n",
       "dtype: object"
      ]
     },
     "execution_count": 67,
     "metadata": {},
     "output_type": "execute_result"
    }
   ],
   "source": [
    "X_train.dtypes"
   ]
  },
  {
   "cell_type": "code",
   "execution_count": 68,
   "metadata": {},
   "outputs": [],
   "source": [
    "X_train = X_train.to_numpy()\n",
    "Y_train = Y_train.to_numpy()\n",
    "X_test = X_test.to_numpy()\n",
    "Y_test = Y_test.to_numpy()\n"
   ]
  },
  {
   "cell_type": "markdown",
   "metadata": {
    "id": "Lj_iCk5vL5E7"
   },
   "source": [
    "#Training and testing data splittion"
   ]
  },
  {
   "cell_type": "markdown",
   "metadata": {
    "id": "_LMH3tMeMbXN"
   },
   "source": [
    "#Model selection"
   ]
  },
  {
   "cell_type": "code",
   "execution_count": 69,
   "metadata": {
    "id": "N71E3GgCMTCO"
   },
   "outputs": [],
   "source": [
    "from tensorflow.keras import layers as L\n",
    "from tensorflow.keras import models as M"
   ]
  },
  {
   "cell_type": "code",
   "execution_count": 70,
   "metadata": {
    "id": "PZIj7pgIMhcg"
   },
   "outputs": [],
   "source": [
    "network = M.Sequential()"
   ]
  },
  {
   "cell_type": "code",
   "execution_count": 71,
   "metadata": {
    "id": "jcIypzdFMrDX"
   },
   "outputs": [],
   "source": [
    "network.add(L.Dense(128,activation=\"relu\",input_shape=(X_train.shape[1],)))"
   ]
  },
  {
   "cell_type": "code",
   "execution_count": 72,
   "metadata": {
    "id": "gl8qko4FM3j4"
   },
   "outputs": [],
   "source": [
    "network.add(L.Dense(64,activation=\"relu\"))"
   ]
  },
  {
   "cell_type": "code",
   "execution_count": 73,
   "metadata": {
    "id": "LQ2VEXd9M8Uw"
   },
   "outputs": [],
   "source": [
    "network.add(L.Dense(32,activation=\"relu\"))"
   ]
  },
  {
   "cell_type": "code",
   "execution_count": 74,
   "metadata": {
    "id": "yWUmN_KvNCno"
   },
   "outputs": [],
   "source": [
    "network.add(L.Dense(1))"
   ]
  },
  {
   "cell_type": "code",
   "execution_count": 75,
   "metadata": {
    "id": "zSyeoyk0Nsa2"
   },
   "outputs": [],
   "source": [
    "network.compile(optimizer=\"rmsprop\",loss=[\"mse\"],metrics=[\"mae\"])"
   ]
  },
  {
   "cell_type": "code",
   "execution_count": 76,
   "metadata": {
    "colab": {
     "base_uri": "https://localhost:8080/"
    },
    "id": "E8cCCFviOKuF",
    "outputId": "c6eebdfa-f576-4106-ec4b-38cba2572df0"
   },
   "outputs": [
    {
     "name": "stdout",
     "output_type": "stream",
     "text": [
      "Epoch 1/200\n",
      "16/16 [==============================] - 0s 14ms/step - loss: 0.5560 - mae: 0.5881 - val_loss: 0.3889 - val_mae: 0.5001\n",
      "Epoch 2/200\n",
      "16/16 [==============================] - 0s 3ms/step - loss: 0.3260 - mae: 0.4483 - val_loss: 0.3172 - val_mae: 0.4449\n",
      "Epoch 3/200\n",
      "16/16 [==============================] - 0s 4ms/step - loss: 0.2436 - mae: 0.3873 - val_loss: 0.2973 - val_mae: 0.4111\n",
      "Epoch 4/200\n",
      "16/16 [==============================] - 0s 4ms/step - loss: 0.2017 - mae: 0.3461 - val_loss: 0.2525 - val_mae: 0.3756\n",
      "Epoch 5/200\n",
      "16/16 [==============================] - 0s 4ms/step - loss: 0.1847 - mae: 0.3368 - val_loss: 0.2265 - val_mae: 0.3595\n",
      "Epoch 6/200\n",
      "16/16 [==============================] - 0s 3ms/step - loss: 0.1675 - mae: 0.3230 - val_loss: 0.2576 - val_mae: 0.3904\n",
      "Epoch 7/200\n",
      "16/16 [==============================] - 0s 3ms/step - loss: 0.1523 - mae: 0.3018 - val_loss: 0.2086 - val_mae: 0.3501\n",
      "Epoch 8/200\n",
      "16/16 [==============================] - 0s 4ms/step - loss: 0.1448 - mae: 0.3001 - val_loss: 0.2063 - val_mae: 0.3465\n",
      "Epoch 9/200\n",
      "16/16 [==============================] - 0s 3ms/step - loss: 0.1291 - mae: 0.2830 - val_loss: 0.2114 - val_mae: 0.3423\n",
      "Epoch 10/200\n",
      "16/16 [==============================] - 0s 3ms/step - loss: 0.1290 - mae: 0.2757 - val_loss: 0.2122 - val_mae: 0.3564\n",
      "Epoch 11/200\n",
      "16/16 [==============================] - 0s 4ms/step - loss: 0.1177 - mae: 0.2707 - val_loss: 0.2014 - val_mae: 0.3449\n",
      "Epoch 12/200\n",
      "16/16 [==============================] - 0s 3ms/step - loss: 0.1052 - mae: 0.2501 - val_loss: 0.1929 - val_mae: 0.3316\n",
      "Epoch 13/200\n",
      "16/16 [==============================] - 0s 4ms/step - loss: 0.1101 - mae: 0.2615 - val_loss: 0.2005 - val_mae: 0.3502\n",
      "Epoch 14/200\n",
      "16/16 [==============================] - 0s 4ms/step - loss: 0.0936 - mae: 0.2389 - val_loss: 0.2506 - val_mae: 0.4070\n",
      "Epoch 15/200\n",
      "16/16 [==============================] - 0s 4ms/step - loss: 0.0886 - mae: 0.2329 - val_loss: 0.2025 - val_mae: 0.3511\n",
      "Epoch 16/200\n",
      "16/16 [==============================] - 0s 4ms/step - loss: 0.0910 - mae: 0.2338 - val_loss: 0.1907 - val_mae: 0.3415\n",
      "Epoch 17/200\n",
      "16/16 [==============================] - 0s 3ms/step - loss: 0.0930 - mae: 0.2359 - val_loss: 0.1847 - val_mae: 0.3272\n",
      "Epoch 18/200\n",
      "16/16 [==============================] - 0s 4ms/step - loss: 0.0848 - mae: 0.2242 - val_loss: 0.1819 - val_mae: 0.3296\n",
      "Epoch 19/200\n",
      "16/16 [==============================] - 0s 4ms/step - loss: 0.0811 - mae: 0.2187 - val_loss: 0.1729 - val_mae: 0.3219\n",
      "Epoch 20/200\n",
      "16/16 [==============================] - 0s 3ms/step - loss: 0.0757 - mae: 0.2155 - val_loss: 0.1776 - val_mae: 0.3108\n",
      "Epoch 21/200\n",
      "16/16 [==============================] - 0s 3ms/step - loss: 0.0820 - mae: 0.2187 - val_loss: 0.1627 - val_mae: 0.3084\n",
      "Epoch 22/200\n",
      "16/16 [==============================] - 0s 4ms/step - loss: 0.0640 - mae: 0.1962 - val_loss: 0.1922 - val_mae: 0.3457\n",
      "Epoch 23/200\n",
      "16/16 [==============================] - 0s 3ms/step - loss: 0.0780 - mae: 0.2185 - val_loss: 0.1757 - val_mae: 0.3184\n",
      "Epoch 24/200\n",
      "16/16 [==============================] - 0s 4ms/step - loss: 0.0687 - mae: 0.2012 - val_loss: 0.1793 - val_mae: 0.3277\n",
      "Epoch 25/200\n",
      "16/16 [==============================] - 0s 3ms/step - loss: 0.0670 - mae: 0.1998 - val_loss: 0.1660 - val_mae: 0.3140\n",
      "Epoch 26/200\n",
      "16/16 [==============================] - 0s 3ms/step - loss: 0.0639 - mae: 0.1996 - val_loss: 0.1696 - val_mae: 0.3157\n",
      "Epoch 27/200\n",
      "16/16 [==============================] - 0s 4ms/step - loss: 0.0646 - mae: 0.1978 - val_loss: 0.1710 - val_mae: 0.3131\n",
      "Epoch 28/200\n",
      "16/16 [==============================] - 0s 3ms/step - loss: 0.0624 - mae: 0.1889 - val_loss: 0.1704 - val_mae: 0.3108\n",
      "Epoch 29/200\n",
      "16/16 [==============================] - 0s 4ms/step - loss: 0.0607 - mae: 0.1869 - val_loss: 0.2035 - val_mae: 0.3403\n",
      "Epoch 30/200\n",
      "16/16 [==============================] - 0s 3ms/step - loss: 0.0573 - mae: 0.1879 - val_loss: 0.1550 - val_mae: 0.2964\n",
      "Epoch 31/200\n",
      "16/16 [==============================] - 0s 3ms/step - loss: 0.0670 - mae: 0.1974 - val_loss: 0.1667 - val_mae: 0.3102\n",
      "Epoch 32/200\n",
      "16/16 [==============================] - 0s 4ms/step - loss: 0.0471 - mae: 0.1654 - val_loss: 0.1603 - val_mae: 0.3088\n",
      "Epoch 33/200\n",
      "16/16 [==============================] - 0s 3ms/step - loss: 0.0588 - mae: 0.1831 - val_loss: 0.1636 - val_mae: 0.3129\n",
      "Epoch 34/200\n",
      "16/16 [==============================] - 0s 3ms/step - loss: 0.0564 - mae: 0.1807 - val_loss: 0.1568 - val_mae: 0.2978\n",
      "Epoch 35/200\n",
      "16/16 [==============================] - 0s 3ms/step - loss: 0.0527 - mae: 0.1745 - val_loss: 0.1534 - val_mae: 0.2951\n",
      "Epoch 36/200\n",
      "16/16 [==============================] - 0s 4ms/step - loss: 0.0558 - mae: 0.1777 - val_loss: 0.1529 - val_mae: 0.2923\n",
      "Epoch 37/200\n",
      "16/16 [==============================] - 0s 3ms/step - loss: 0.0515 - mae: 0.1739 - val_loss: 0.1638 - val_mae: 0.3095\n",
      "Epoch 38/200\n",
      "16/16 [==============================] - 0s 3ms/step - loss: 0.0513 - mae: 0.1713 - val_loss: 0.1536 - val_mae: 0.2980\n",
      "Epoch 39/200\n",
      "16/16 [==============================] - 0s 3ms/step - loss: 0.0510 - mae: 0.1708 - val_loss: 0.1558 - val_mae: 0.2989\n",
      "Epoch 40/200\n",
      "16/16 [==============================] - 0s 4ms/step - loss: 0.0472 - mae: 0.1654 - val_loss: 0.1521 - val_mae: 0.2935\n",
      "Epoch 41/200\n",
      "16/16 [==============================] - 0s 3ms/step - loss: 0.0559 - mae: 0.1775 - val_loss: 0.1687 - val_mae: 0.3132\n",
      "Epoch 42/200\n",
      "16/16 [==============================] - 0s 4ms/step - loss: 0.0505 - mae: 0.1688 - val_loss: 0.1496 - val_mae: 0.2870\n",
      "Epoch 43/200\n",
      "16/16 [==============================] - 0s 3ms/step - loss: 0.0482 - mae: 0.1671 - val_loss: 0.1846 - val_mae: 0.3334\n",
      "Epoch 44/200\n",
      "16/16 [==============================] - 0s 4ms/step - loss: 0.0500 - mae: 0.1676 - val_loss: 0.1678 - val_mae: 0.2997\n",
      "Epoch 45/200\n",
      "16/16 [==============================] - 0s 4ms/step - loss: 0.0498 - mae: 0.1635 - val_loss: 0.1470 - val_mae: 0.2935\n",
      "Epoch 46/200\n",
      "16/16 [==============================] - 0s 3ms/step - loss: 0.0463 - mae: 0.1665 - val_loss: 0.1547 - val_mae: 0.2975\n",
      "Epoch 47/200\n",
      "16/16 [==============================] - 0s 5ms/step - loss: 0.0477 - mae: 0.1678 - val_loss: 0.1740 - val_mae: 0.3234\n",
      "Epoch 48/200\n",
      "16/16 [==============================] - 0s 4ms/step - loss: 0.0464 - mae: 0.1603 - val_loss: 0.1573 - val_mae: 0.2943\n",
      "Epoch 49/200\n",
      "16/16 [==============================] - 0s 4ms/step - loss: 0.0358 - mae: 0.1423 - val_loss: 0.1449 - val_mae: 0.2922\n",
      "Epoch 50/200\n",
      "16/16 [==============================] - 0s 4ms/step - loss: 0.0574 - mae: 0.1749 - val_loss: 0.1616 - val_mae: 0.3037\n",
      "Epoch 51/200\n",
      "16/16 [==============================] - 0s 4ms/step - loss: 0.0419 - mae: 0.1554 - val_loss: 0.1776 - val_mae: 0.3172\n",
      "Epoch 52/200\n",
      "16/16 [==============================] - 0s 4ms/step - loss: 0.0468 - mae: 0.1576 - val_loss: 0.1673 - val_mae: 0.3153\n",
      "Epoch 53/200\n",
      "16/16 [==============================] - 0s 4ms/step - loss: 0.0433 - mae: 0.1585 - val_loss: 0.1475 - val_mae: 0.2913\n",
      "Epoch 54/200\n",
      "16/16 [==============================] - 0s 4ms/step - loss: 0.0457 - mae: 0.1611 - val_loss: 0.1431 - val_mae: 0.2884\n",
      "Epoch 55/200\n",
      "16/16 [==============================] - 0s 4ms/step - loss: 0.0435 - mae: 0.1544 - val_loss: 0.1553 - val_mae: 0.2958\n",
      "Epoch 56/200\n",
      "16/16 [==============================] - 0s 3ms/step - loss: 0.0424 - mae: 0.1533 - val_loss: 0.1653 - val_mae: 0.3159\n",
      "Epoch 57/200\n",
      "16/16 [==============================] - 0s 3ms/step - loss: 0.0384 - mae: 0.1428 - val_loss: 0.1359 - val_mae: 0.2802\n",
      "Epoch 58/200\n",
      "16/16 [==============================] - 0s 3ms/step - loss: 0.0448 - mae: 0.1542 - val_loss: 0.1459 - val_mae: 0.2825\n",
      "Epoch 59/200\n",
      "16/16 [==============================] - 0s 3ms/step - loss: 0.0401 - mae: 0.1489 - val_loss: 0.1655 - val_mae: 0.3067\n",
      "Epoch 60/200\n",
      "16/16 [==============================] - 0s 4ms/step - loss: 0.0464 - mae: 0.1572 - val_loss: 0.1437 - val_mae: 0.2824\n",
      "Epoch 61/200\n",
      "16/16 [==============================] - 0s 4ms/step - loss: 0.0438 - mae: 0.1571 - val_loss: 0.1704 - val_mae: 0.3280\n",
      "Epoch 62/200\n",
      "16/16 [==============================] - 0s 4ms/step - loss: 0.0356 - mae: 0.1420 - val_loss: 0.2006 - val_mae: 0.3498\n",
      "Epoch 63/200\n"
     ]
    },
    {
     "name": "stdout",
     "output_type": "stream",
     "text": [
      "16/16 [==============================] - 0s 4ms/step - loss: 0.0453 - mae: 0.1577 - val_loss: 0.1557 - val_mae: 0.3038\n",
      "Epoch 64/200\n",
      "16/16 [==============================] - 0s 4ms/step - loss: 0.0398 - mae: 0.1472 - val_loss: 0.1600 - val_mae: 0.2969\n",
      "Epoch 65/200\n",
      "16/16 [==============================] - 0s 4ms/step - loss: 0.0328 - mae: 0.1332 - val_loss: 0.1428 - val_mae: 0.2811\n",
      "Epoch 66/200\n",
      "16/16 [==============================] - 0s 3ms/step - loss: 0.0476 - mae: 0.1619 - val_loss: 0.1356 - val_mae: 0.2717\n",
      "Epoch 67/200\n",
      "16/16 [==============================] - 0s 3ms/step - loss: 0.0395 - mae: 0.1474 - val_loss: 0.1419 - val_mae: 0.2890\n",
      "Epoch 68/200\n",
      "16/16 [==============================] - 0s 4ms/step - loss: 0.0373 - mae: 0.1480 - val_loss: 0.1480 - val_mae: 0.2964\n",
      "Epoch 69/200\n",
      "16/16 [==============================] - 0s 4ms/step - loss: 0.0369 - mae: 0.1453 - val_loss: 0.1366 - val_mae: 0.2724\n",
      "Epoch 70/200\n",
      "16/16 [==============================] - 0s 4ms/step - loss: 0.0425 - mae: 0.1499 - val_loss: 0.1466 - val_mae: 0.2909\n",
      "Epoch 71/200\n",
      "16/16 [==============================] - 0s 3ms/step - loss: 0.0368 - mae: 0.1460 - val_loss: 0.1474 - val_mae: 0.2831\n",
      "Epoch 72/200\n",
      "16/16 [==============================] - 0s 3ms/step - loss: 0.0341 - mae: 0.1368 - val_loss: 0.1441 - val_mae: 0.2724\n",
      "Epoch 73/200\n",
      "16/16 [==============================] - 0s 3ms/step - loss: 0.0456 - mae: 0.1561 - val_loss: 0.1381 - val_mae: 0.2770\n",
      "Epoch 74/200\n",
      "16/16 [==============================] - 0s 3ms/step - loss: 0.0368 - mae: 0.1431 - val_loss: 0.1499 - val_mae: 0.2863\n",
      "Epoch 75/200\n",
      "16/16 [==============================] - 0s 3ms/step - loss: 0.0434 - mae: 0.1565 - val_loss: 0.1325 - val_mae: 0.2756\n",
      "Epoch 76/200\n",
      "16/16 [==============================] - 0s 3ms/step - loss: 0.0352 - mae: 0.1381 - val_loss: 0.1639 - val_mae: 0.3090\n",
      "Epoch 77/200\n",
      "16/16 [==============================] - 0s 3ms/step - loss: 0.0394 - mae: 0.1510 - val_loss: 0.1438 - val_mae: 0.2904\n",
      "Epoch 78/200\n",
      "16/16 [==============================] - 0s 3ms/step - loss: 0.0350 - mae: 0.1364 - val_loss: 0.1342 - val_mae: 0.2699\n",
      "Epoch 79/200\n",
      "16/16 [==============================] - 0s 3ms/step - loss: 0.0342 - mae: 0.1380 - val_loss: 0.1391 - val_mae: 0.2845\n",
      "Epoch 80/200\n",
      "16/16 [==============================] - 0s 3ms/step - loss: 0.0373 - mae: 0.1339 - val_loss: 0.1455 - val_mae: 0.2893\n",
      "Epoch 81/200\n",
      "16/16 [==============================] - 0s 3ms/step - loss: 0.0387 - mae: 0.1470 - val_loss: 0.1871 - val_mae: 0.3266\n",
      "Epoch 82/200\n",
      "16/16 [==============================] - 0s 2ms/step - loss: 0.0321 - mae: 0.1338 - val_loss: 0.1477 - val_mae: 0.2956\n",
      "Epoch 83/200\n",
      "16/16 [==============================] - 0s 3ms/step - loss: 0.0338 - mae: 0.1374 - val_loss: 0.1395 - val_mae: 0.2748\n",
      "Epoch 84/200\n",
      "16/16 [==============================] - 0s 3ms/step - loss: 0.0343 - mae: 0.1334 - val_loss: 0.1399 - val_mae: 0.2772\n",
      "Epoch 85/200\n",
      "16/16 [==============================] - 0s 3ms/step - loss: 0.0362 - mae: 0.1425 - val_loss: 0.1404 - val_mae: 0.2785\n",
      "Epoch 86/200\n",
      "16/16 [==============================] - 0s 3ms/step - loss: 0.0292 - mae: 0.1230 - val_loss: 0.1610 - val_mae: 0.2992\n",
      "Epoch 87/200\n",
      "16/16 [==============================] - 0s 2ms/step - loss: 0.0381 - mae: 0.1412 - val_loss: 0.1500 - val_mae: 0.2945\n",
      "Epoch 88/200\n",
      "16/16 [==============================] - 0s 3ms/step - loss: 0.0324 - mae: 0.1317 - val_loss: 0.1389 - val_mae: 0.2860\n",
      "Epoch 89/200\n",
      "16/16 [==============================] - 0s 4ms/step - loss: 0.0347 - mae: 0.1312 - val_loss: 0.1368 - val_mae: 0.2737\n",
      "Epoch 90/200\n",
      "16/16 [==============================] - 0s 6ms/step - loss: 0.0334 - mae: 0.1323 - val_loss: 0.1437 - val_mae: 0.2741\n",
      "Epoch 91/200\n",
      "16/16 [==============================] - 0s 4ms/step - loss: 0.0341 - mae: 0.1309 - val_loss: 0.1674 - val_mae: 0.3142\n",
      "Epoch 92/200\n",
      "16/16 [==============================] - 0s 4ms/step - loss: 0.0344 - mae: 0.1414 - val_loss: 0.1509 - val_mae: 0.2901\n",
      "Epoch 93/200\n",
      "16/16 [==============================] - 0s 6ms/step - loss: 0.0367 - mae: 0.1375 - val_loss: 0.1526 - val_mae: 0.2924\n",
      "Epoch 94/200\n",
      "16/16 [==============================] - 0s 3ms/step - loss: 0.0308 - mae: 0.1263 - val_loss: 0.1313 - val_mae: 0.2681\n",
      "Epoch 95/200\n",
      "16/16 [==============================] - 0s 4ms/step - loss: 0.0330 - mae: 0.1335 - val_loss: 0.1417 - val_mae: 0.2765\n",
      "Epoch 96/200\n",
      "16/16 [==============================] - 0s 3ms/step - loss: 0.0307 - mae: 0.1263 - val_loss: 0.1438 - val_mae: 0.2787\n",
      "Epoch 97/200\n",
      "16/16 [==============================] - 0s 3ms/step - loss: 0.0306 - mae: 0.1294 - val_loss: 0.1470 - val_mae: 0.2834\n",
      "Epoch 98/200\n",
      "16/16 [==============================] - 0s 3ms/step - loss: 0.0350 - mae: 0.1345 - val_loss: 0.1392 - val_mae: 0.2791\n",
      "Epoch 99/200\n",
      "16/16 [==============================] - 0s 2ms/step - loss: 0.0292 - mae: 0.1232 - val_loss: 0.1590 - val_mae: 0.2990\n",
      "Epoch 100/200\n",
      "16/16 [==============================] - 0s 3ms/step - loss: 0.0308 - mae: 0.1242 - val_loss: 0.1437 - val_mae: 0.2792\n",
      "Epoch 101/200\n",
      "16/16 [==============================] - 0s 3ms/step - loss: 0.0292 - mae: 0.1205 - val_loss: 0.1498 - val_mae: 0.2844\n",
      "Epoch 102/200\n",
      "16/16 [==============================] - 0s 3ms/step - loss: 0.0384 - mae: 0.1411 - val_loss: 0.1325 - val_mae: 0.2665\n",
      "Epoch 103/200\n",
      "16/16 [==============================] - 0s 3ms/step - loss: 0.0286 - mae: 0.1206 - val_loss: 0.1384 - val_mae: 0.2749\n",
      "Epoch 104/200\n",
      "16/16 [==============================] - 0s 3ms/step - loss: 0.0282 - mae: 0.1187 - val_loss: 0.1617 - val_mae: 0.3030\n",
      "Epoch 105/200\n",
      "16/16 [==============================] - 0s 3ms/step - loss: 0.0256 - mae: 0.1181 - val_loss: 0.1637 - val_mae: 0.3028\n",
      "Epoch 106/200\n",
      "16/16 [==============================] - 0s 3ms/step - loss: 0.0382 - mae: 0.1376 - val_loss: 0.1352 - val_mae: 0.2723\n",
      "Epoch 107/200\n",
      "16/16 [==============================] - 0s 3ms/step - loss: 0.0280 - mae: 0.1209 - val_loss: 0.1460 - val_mae: 0.2750\n",
      "Epoch 108/200\n",
      "16/16 [==============================] - 0s 3ms/step - loss: 0.0320 - mae: 0.1309 - val_loss: 0.1585 - val_mae: 0.2868\n",
      "Epoch 109/200\n",
      "16/16 [==============================] - 0s 3ms/step - loss: 0.0265 - mae: 0.1167 - val_loss: 0.1574 - val_mae: 0.2892\n",
      "Epoch 110/200\n",
      "16/16 [==============================] - 0s 3ms/step - loss: 0.0285 - mae: 0.1196 - val_loss: 0.1651 - val_mae: 0.3137\n",
      "Epoch 111/200\n",
      "16/16 [==============================] - 0s 3ms/step - loss: 0.0346 - mae: 0.1318 - val_loss: 0.1546 - val_mae: 0.2981\n",
      "Epoch 112/200\n",
      "16/16 [==============================] - 0s 3ms/step - loss: 0.0277 - mae: 0.1203 - val_loss: 0.1414 - val_mae: 0.2669\n",
      "Epoch 113/200\n",
      "16/16 [==============================] - 0s 3ms/step - loss: 0.0300 - mae: 0.1264 - val_loss: 0.1352 - val_mae: 0.2695\n",
      "Epoch 114/200\n",
      "16/16 [==============================] - 0s 3ms/step - loss: 0.0274 - mae: 0.1197 - val_loss: 0.1367 - val_mae: 0.2684\n",
      "Epoch 115/200\n",
      "16/16 [==============================] - 0s 3ms/step - loss: 0.0280 - mae: 0.1177 - val_loss: 0.1316 - val_mae: 0.2741\n",
      "Epoch 116/200\n",
      "16/16 [==============================] - 0s 2ms/step - loss: 0.0299 - mae: 0.1279 - val_loss: 0.1412 - val_mae: 0.2793\n",
      "Epoch 117/200\n",
      "16/16 [==============================] - 0s 3ms/step - loss: 0.0288 - mae: 0.1207 - val_loss: 0.1373 - val_mae: 0.2734\n",
      "Epoch 118/200\n",
      "16/16 [==============================] - 0s 3ms/step - loss: 0.0280 - mae: 0.1233 - val_loss: 0.1509 - val_mae: 0.2861\n",
      "Epoch 119/200\n",
      "16/16 [==============================] - 0s 3ms/step - loss: 0.0294 - mae: 0.1218 - val_loss: 0.1382 - val_mae: 0.2696\n",
      "Epoch 120/200\n",
      "16/16 [==============================] - 0s 3ms/step - loss: 0.0357 - mae: 0.1309 - val_loss: 0.1350 - val_mae: 0.2686\n",
      "Epoch 121/200\n",
      "16/16 [==============================] - 0s 3ms/step - loss: 0.0245 - mae: 0.1083 - val_loss: 0.1485 - val_mae: 0.2804\n",
      "Epoch 122/200\n",
      "16/16 [==============================] - 0s 3ms/step - loss: 0.0297 - mae: 0.1276 - val_loss: 0.1310 - val_mae: 0.2635\n",
      "Epoch 123/200\n",
      "16/16 [==============================] - 0s 3ms/step - loss: 0.0299 - mae: 0.1227 - val_loss: 0.1412 - val_mae: 0.2769\n",
      "Epoch 124/200\n",
      "16/16 [==============================] - 0s 3ms/step - loss: 0.0243 - mae: 0.1122 - val_loss: 0.1432 - val_mae: 0.2885\n"
     ]
    },
    {
     "name": "stdout",
     "output_type": "stream",
     "text": [
      "Epoch 125/200\n",
      "16/16 [==============================] - 0s 3ms/step - loss: 0.0305 - mae: 0.1194 - val_loss: 0.1364 - val_mae: 0.2695\n",
      "Epoch 126/200\n",
      "16/16 [==============================] - 0s 3ms/step - loss: 0.0278 - mae: 0.1188 - val_loss: 0.1388 - val_mae: 0.2750\n",
      "Epoch 127/200\n",
      "16/16 [==============================] - 0s 3ms/step - loss: 0.0261 - mae: 0.1142 - val_loss: 0.1346 - val_mae: 0.2728\n",
      "Epoch 128/200\n",
      "16/16 [==============================] - 0s 3ms/step - loss: 0.0269 - mae: 0.1176 - val_loss: 0.1331 - val_mae: 0.2703\n",
      "Epoch 129/200\n",
      "16/16 [==============================] - 0s 2ms/step - loss: 0.0305 - mae: 0.1232 - val_loss: 0.1306 - val_mae: 0.2657\n",
      "Epoch 130/200\n",
      "16/16 [==============================] - 0s 3ms/step - loss: 0.0245 - mae: 0.1098 - val_loss: 0.1375 - val_mae: 0.2717\n",
      "Epoch 131/200\n",
      "16/16 [==============================] - 0s 3ms/step - loss: 0.0313 - mae: 0.1213 - val_loss: 0.1440 - val_mae: 0.2693\n",
      "Epoch 132/200\n",
      "16/16 [==============================] - 0s 3ms/step - loss: 0.0264 - mae: 0.1153 - val_loss: 0.1419 - val_mae: 0.2738\n",
      "Epoch 133/200\n",
      "16/16 [==============================] - 0s 3ms/step - loss: 0.0290 - mae: 0.1150 - val_loss: 0.1557 - val_mae: 0.2849\n",
      "Epoch 134/200\n",
      "16/16 [==============================] - 0s 3ms/step - loss: 0.0299 - mae: 0.1200 - val_loss: 0.1318 - val_mae: 0.2631\n",
      "Epoch 135/200\n",
      "16/16 [==============================] - 0s 3ms/step - loss: 0.0273 - mae: 0.1190 - val_loss: 0.1477 - val_mae: 0.2785\n",
      "Epoch 136/200\n",
      "16/16 [==============================] - 0s 3ms/step - loss: 0.0264 - mae: 0.1116 - val_loss: 0.1414 - val_mae: 0.2688\n",
      "Epoch 137/200\n",
      "16/16 [==============================] - 0s 3ms/step - loss: 0.0322 - mae: 0.1240 - val_loss: 0.1332 - val_mae: 0.2652\n",
      "Epoch 138/200\n",
      "16/16 [==============================] - 0s 3ms/step - loss: 0.0230 - mae: 0.1065 - val_loss: 0.1466 - val_mae: 0.2811\n",
      "Epoch 139/200\n",
      "16/16 [==============================] - 0s 3ms/step - loss: 0.0268 - mae: 0.1158 - val_loss: 0.1370 - val_mae: 0.2745\n",
      "Epoch 140/200\n",
      "16/16 [==============================] - 0s 3ms/step - loss: 0.0241 - mae: 0.1104 - val_loss: 0.1476 - val_mae: 0.2856\n",
      "Epoch 141/200\n",
      "16/16 [==============================] - 0s 3ms/step - loss: 0.0261 - mae: 0.1128 - val_loss: 0.1503 - val_mae: 0.2865\n",
      "Epoch 142/200\n",
      "16/16 [==============================] - 0s 3ms/step - loss: 0.0249 - mae: 0.1106 - val_loss: 0.1365 - val_mae: 0.2733\n",
      "Epoch 143/200\n",
      "16/16 [==============================] - 0s 3ms/step - loss: 0.0246 - mae: 0.1129 - val_loss: 0.1312 - val_mae: 0.2638\n",
      "Epoch 144/200\n",
      "16/16 [==============================] - 0s 2ms/step - loss: 0.0233 - mae: 0.1074 - val_loss: 0.1358 - val_mae: 0.2685\n",
      "Epoch 145/200\n",
      "16/16 [==============================] - 0s 2ms/step - loss: 0.0298 - mae: 0.1238 - val_loss: 0.1432 - val_mae: 0.2687\n",
      "Epoch 146/200\n",
      "16/16 [==============================] - 0s 3ms/step - loss: 0.0292 - mae: 0.1145 - val_loss: 0.1499 - val_mae: 0.2787\n",
      "Epoch 147/200\n",
      "16/16 [==============================] - 0s 3ms/step - loss: 0.0207 - mae: 0.1001 - val_loss: 0.1389 - val_mae: 0.2654\n",
      "Epoch 148/200\n",
      "16/16 [==============================] - 0s 3ms/step - loss: 0.0289 - mae: 0.1221 - val_loss: 0.1392 - val_mae: 0.2736\n",
      "Epoch 149/200\n",
      "16/16 [==============================] - 0s 3ms/step - loss: 0.0243 - mae: 0.1069 - val_loss: 0.1423 - val_mae: 0.2736\n",
      "Epoch 150/200\n",
      "16/16 [==============================] - 0s 3ms/step - loss: 0.0209 - mae: 0.0973 - val_loss: 0.1545 - val_mae: 0.2843\n",
      "Epoch 151/200\n",
      "16/16 [==============================] - 0s 3ms/step - loss: 0.0256 - mae: 0.1099 - val_loss: 0.1424 - val_mae: 0.2825\n",
      "Epoch 152/200\n",
      "16/16 [==============================] - 0s 2ms/step - loss: 0.0253 - mae: 0.1172 - val_loss: 0.1391 - val_mae: 0.2823\n",
      "Epoch 153/200\n",
      "16/16 [==============================] - 0s 3ms/step - loss: 0.0244 - mae: 0.1100 - val_loss: 0.1472 - val_mae: 0.2834\n",
      "Epoch 154/200\n",
      "16/16 [==============================] - 0s 3ms/step - loss: 0.0286 - mae: 0.1213 - val_loss: 0.1378 - val_mae: 0.2637\n",
      "Epoch 155/200\n",
      "16/16 [==============================] - 0s 2ms/step - loss: 0.0234 - mae: 0.1028 - val_loss: 0.1327 - val_mae: 0.2645\n",
      "Epoch 156/200\n",
      "16/16 [==============================] - 0s 3ms/step - loss: 0.0243 - mae: 0.1078 - val_loss: 0.1374 - val_mae: 0.2633\n",
      "Epoch 157/200\n",
      "16/16 [==============================] - 0s 3ms/step - loss: 0.0244 - mae: 0.1103 - val_loss: 0.1504 - val_mae: 0.2880\n",
      "Epoch 158/200\n",
      "16/16 [==============================] - 0s 3ms/step - loss: 0.0222 - mae: 0.1054 - val_loss: 0.1541 - val_mae: 0.2797\n",
      "Epoch 159/200\n",
      "16/16 [==============================] - 0s 3ms/step - loss: 0.0248 - mae: 0.1093 - val_loss: 0.1555 - val_mae: 0.2912\n",
      "Epoch 160/200\n",
      "16/16 [==============================] - 0s 3ms/step - loss: 0.0228 - mae: 0.1070 - val_loss: 0.1534 - val_mae: 0.2818\n",
      "Epoch 161/200\n",
      "16/16 [==============================] - 0s 3ms/step - loss: 0.0271 - mae: 0.1173 - val_loss: 0.1379 - val_mae: 0.2690\n",
      "Epoch 162/200\n",
      "16/16 [==============================] - 0s 2ms/step - loss: 0.0280 - mae: 0.1168 - val_loss: 0.1318 - val_mae: 0.2646\n",
      "Epoch 163/200\n",
      "16/16 [==============================] - 0s 3ms/step - loss: 0.0238 - mae: 0.1082 - val_loss: 0.1380 - val_mae: 0.2676\n",
      "Epoch 164/200\n",
      "16/16 [==============================] - 0s 2ms/step - loss: 0.0230 - mae: 0.1036 - val_loss: 0.1458 - val_mae: 0.2837\n",
      "Epoch 165/200\n",
      "16/16 [==============================] - 0s 3ms/step - loss: 0.0257 - mae: 0.1120 - val_loss: 0.1546 - val_mae: 0.2852\n",
      "Epoch 166/200\n",
      "16/16 [==============================] - 0s 3ms/step - loss: 0.0243 - mae: 0.1062 - val_loss: 0.1464 - val_mae: 0.2764\n",
      "Epoch 167/200\n",
      "16/16 [==============================] - 0s 3ms/step - loss: 0.0217 - mae: 0.1038 - val_loss: 0.1393 - val_mae: 0.2744\n",
      "Epoch 168/200\n",
      "16/16 [==============================] - 0s 3ms/step - loss: 0.0249 - mae: 0.1127 - val_loss: 0.1338 - val_mae: 0.2626\n",
      "Epoch 169/200\n",
      "16/16 [==============================] - 0s 3ms/step - loss: 0.0220 - mae: 0.1017 - val_loss: 0.1413 - val_mae: 0.2790\n",
      "Epoch 170/200\n",
      "16/16 [==============================] - 0s 3ms/step - loss: 0.0257 - mae: 0.1085 - val_loss: 0.1774 - val_mae: 0.3203\n",
      "Epoch 171/200\n",
      "16/16 [==============================] - 0s 3ms/step - loss: 0.0246 - mae: 0.1112 - val_loss: 0.1419 - val_mae: 0.2710\n",
      "Epoch 172/200\n",
      "16/16 [==============================] - 0s 3ms/step - loss: 0.0174 - mae: 0.0920 - val_loss: 0.1419 - val_mae: 0.2682\n",
      "Epoch 173/200\n",
      "16/16 [==============================] - 0s 3ms/step - loss: 0.0271 - mae: 0.1151 - val_loss: 0.1383 - val_mae: 0.2667\n",
      "Epoch 174/200\n",
      "16/16 [==============================] - 0s 3ms/step - loss: 0.0227 - mae: 0.1017 - val_loss: 0.1369 - val_mae: 0.2639\n",
      "Epoch 175/200\n",
      "16/16 [==============================] - 0s 2ms/step - loss: 0.0223 - mae: 0.1042 - val_loss: 0.1518 - val_mae: 0.2760\n",
      "Epoch 176/200\n",
      "16/16 [==============================] - 0s 3ms/step - loss: 0.0253 - mae: 0.1106 - val_loss: 0.1429 - val_mae: 0.2647\n",
      "Epoch 177/200\n",
      "16/16 [==============================] - 0s 3ms/step - loss: 0.0207 - mae: 0.1008 - val_loss: 0.1550 - val_mae: 0.2817\n",
      "Epoch 178/200\n",
      "16/16 [==============================] - 0s 2ms/step - loss: 0.0236 - mae: 0.1060 - val_loss: 0.1440 - val_mae: 0.2740\n",
      "Epoch 179/200\n",
      "16/16 [==============================] - 0s 3ms/step - loss: 0.0247 - mae: 0.1064 - val_loss: 0.1427 - val_mae: 0.2753\n",
      "Epoch 180/200\n",
      "16/16 [==============================] - 0s 3ms/step - loss: 0.0236 - mae: 0.1037 - val_loss: 0.1396 - val_mae: 0.2657\n",
      "Epoch 181/200\n",
      "16/16 [==============================] - 0s 3ms/step - loss: 0.0204 - mae: 0.1016 - val_loss: 0.1517 - val_mae: 0.2778\n",
      "Epoch 182/200\n",
      "16/16 [==============================] - 0s 3ms/step - loss: 0.0233 - mae: 0.1051 - val_loss: 0.1662 - val_mae: 0.2879\n",
      "Epoch 183/200\n",
      "16/16 [==============================] - 0s 3ms/step - loss: 0.0243 - mae: 0.0995 - val_loss: 0.1450 - val_mae: 0.2742\n",
      "Epoch 184/200\n",
      "16/16 [==============================] - 0s 3ms/step - loss: 0.0206 - mae: 0.0943 - val_loss: 0.1368 - val_mae: 0.2638\n",
      "Epoch 185/200\n",
      "16/16 [==============================] - 0s 3ms/step - loss: 0.0182 - mae: 0.0905 - val_loss: 0.1675 - val_mae: 0.3000\n",
      "Epoch 186/200\n"
     ]
    },
    {
     "name": "stdout",
     "output_type": "stream",
     "text": [
      "16/16 [==============================] - 0s 3ms/step - loss: 0.0240 - mae: 0.1070 - val_loss: 0.1323 - val_mae: 0.2640\n",
      "Epoch 187/200\n",
      "16/16 [==============================] - 0s 3ms/step - loss: 0.0236 - mae: 0.1033 - val_loss: 0.1354 - val_mae: 0.2635\n",
      "Epoch 188/200\n",
      "16/16 [==============================] - 0s 3ms/step - loss: 0.0235 - mae: 0.1098 - val_loss: 0.1365 - val_mae: 0.2681\n",
      "Epoch 189/200\n",
      "16/16 [==============================] - 0s 2ms/step - loss: 0.0213 - mae: 0.0988 - val_loss: 0.1403 - val_mae: 0.2689\n",
      "Epoch 190/200\n",
      "16/16 [==============================] - 0s 2ms/step - loss: 0.0227 - mae: 0.1007 - val_loss: 0.1423 - val_mae: 0.2704\n",
      "Epoch 191/200\n",
      "16/16 [==============================] - 0s 3ms/step - loss: 0.0219 - mae: 0.1047 - val_loss: 0.1497 - val_mae: 0.2784\n",
      "Epoch 192/200\n",
      "16/16 [==============================] - 0s 2ms/step - loss: 0.0200 - mae: 0.0984 - val_loss: 0.1378 - val_mae: 0.2637\n",
      "Epoch 193/200\n",
      "16/16 [==============================] - 0s 2ms/step - loss: 0.0208 - mae: 0.0934 - val_loss: 0.1347 - val_mae: 0.2646\n",
      "Epoch 194/200\n",
      "16/16 [==============================] - 0s 3ms/step - loss: 0.0261 - mae: 0.1140 - val_loss: 0.1377 - val_mae: 0.2621\n",
      "Epoch 195/200\n",
      "16/16 [==============================] - 0s 3ms/step - loss: 0.0215 - mae: 0.0997 - val_loss: 0.1318 - val_mae: 0.2579\n",
      "Epoch 196/200\n",
      "16/16 [==============================] - 0s 3ms/step - loss: 0.0198 - mae: 0.0971 - val_loss: 0.1365 - val_mae: 0.2648\n",
      "Epoch 197/200\n",
      "16/16 [==============================] - 0s 3ms/step - loss: 0.0204 - mae: 0.1010 - val_loss: 0.1414 - val_mae: 0.2751\n",
      "Epoch 198/200\n",
      "16/16 [==============================] - 0s 3ms/step - loss: 0.0236 - mae: 0.1048 - val_loss: 0.1530 - val_mae: 0.2819\n",
      "Epoch 199/200\n",
      "16/16 [==============================] - 0s 3ms/step - loss: 0.0201 - mae: 0.0981 - val_loss: 0.1425 - val_mae: 0.2778\n",
      "Epoch 200/200\n",
      "16/16 [==============================] - 0s 3ms/step - loss: 0.0240 - mae: 0.1045 - val_loss: 0.1454 - val_mae: 0.2744\n"
     ]
    }
   ],
   "source": [
    "history = network.fit(X_train,Y_train,epochs=200,validation_split=0.3)"
   ]
  },
  {
   "cell_type": "code",
   "execution_count": 77,
   "metadata": {},
   "outputs": [
    {
     "data": {
      "text/plain": [
       "dict_keys(['loss', 'mae', 'val_loss', 'val_mae'])"
      ]
     },
     "execution_count": 77,
     "metadata": {},
     "output_type": "execute_result"
    }
   ],
   "source": [
    "history.history.keys()"
   ]
  },
  {
   "cell_type": "code",
   "execution_count": 78,
   "metadata": {
    "colab": {
     "base_uri": "https://localhost:8080/"
    },
    "id": "Dke-NeOQtJ7Z",
    "outputId": "c747742c-a35c-489d-910c-49aec973df25"
   },
   "outputs": [
    {
     "name": "stdout",
     "output_type": "stream",
     "text": [
      "10/10 [==============================] - 0s 1ms/step - loss: 0.1243 - mae: 0.2375\n"
     ]
    }
   ],
   "source": [
    "loss,mae=network.evaluate(X_test,Y_test)"
   ]
  },
  {
   "cell_type": "code",
   "execution_count": 79,
   "metadata": {
    "colab": {
     "base_uri": "https://localhost:8080/"
    },
    "id": "CtycpTWetRiZ",
    "outputId": "c3c53923-6128-448f-a0ac-68b30a6eabaa"
   },
   "outputs": [],
   "source": [
    "val_mae = history.history['val_mae']\n",
    "val_loss = history.history['val_loss']"
   ]
  },
  {
   "cell_type": "code",
   "execution_count": 80,
   "metadata": {},
   "outputs": [
    {
     "data": {
      "image/png": "[encoded data removed]",
      "text/plain": [
       "<Figure size 432x288 with 1 Axes>"
      ]
     },
     "metadata": {
      "needs_background": "light"
     },
     "output_type": "display_data"
    }
   ],
   "source": [
    "import matplotlib.pyplot as plt \n",
    "history_dict = history.history\n",
    "loss_values = history_dict['loss']\n",
    "val_loss_values = history_dict['val_loss']\n",
    "epochs = range(200)\n",
    "plt.plot(epochs, loss_values, 'bo', label='Training loss')\n",
    "plt.plot(epochs, val_loss_values, 'b', label='Validation loss')\n",
    "plt.title('Training and validation loss')\n",
    "plt.xlabel('Epochs')\n",
    "plt.ylabel('Loss')\n",
    "plt.legend()\n",
    "plt.show()"
   ]
  },
  {
   "cell_type": "code",
   "execution_count": 81,
   "metadata": {},
   "outputs": [
    {
     "data": {
      "image/png": "[encoded data removed]",
      "text/plain": [
       "<Figure size 432x288 with 1 Axes>"
      ]
     },
     "metadata": {
      "needs_background": "light"
     },
     "output_type": "display_data"
    }
   ],
   "source": [
    "import matplotlib.pyplot as plt \n",
    "acc_values = history_dict['mae']\n",
    "val_acc_values = history_dict['val_mae']\n",
    "plt.plot(epochs, acc_values, 'bo', label='Training mae')\n",
    "plt.plot(epochs, val_acc_values, 'b', label='Validation mae')\n",
    "plt.title('Training and validation accuracy')\n",
    "plt.xlabel('Epochs')\n",
    "plt.ylabel('mae')\n",
    "plt.legend()\n",
    "plt.show()"
   ]
  },
  {
   "cell_type": "code",
   "execution_count": 82,
   "metadata": {
    "id": "AiZJuEX1tXIa"
   },
   "outputs": [],
   "source": [
    "y_pred = network.predict(X_test)"
   ]
  },
  {
   "cell_type": "code",
   "execution_count": 83,
   "metadata": {},
   "outputs": [],
   "source": [
    "def denorm(x):\n",
    "    return (x * Y_std) + Y_mean\n",
    "    "
   ]
  },
  {
   "cell_type": "code",
   "execution_count": 84,
   "metadata": {},
   "outputs": [],
   "source": [
    "y_pred = denorm(y_pred)"
   ]
  },
  {
   "cell_type": "code",
   "execution_count": 85,
   "metadata": {},
   "outputs": [],
   "source": [
    "y_true = denorm(Y_test)"
   ]
  },
  {
   "cell_type": "code",
   "execution_count": 86,
   "metadata": {},
   "outputs": [],
   "source": [
    "y_pred = y_pred.flatten()"
   ]
  },
  {
   "cell_type": "code",
   "execution_count": 87,
   "metadata": {},
   "outputs": [
    {
     "data": {
      "text/plain": [
       "(309,)"
      ]
     },
     "execution_count": 87,
     "metadata": {},
     "output_type": "execute_result"
    }
   ],
   "source": [
    "y_pred.shape"
   ]
  },
  {
   "cell_type": "code",
   "execution_count": 88,
   "metadata": {},
   "outputs": [
    {
     "data": {
      "text/plain": [
       "(309,)"
      ]
     },
     "execution_count": 88,
     "metadata": {},
     "output_type": "execute_result"
    }
   ],
   "source": [
    "y_true.shape"
   ]
  },
  {
   "cell_type": "code",
   "execution_count": 89,
   "metadata": {},
   "outputs": [
    {
     "data": {
      "text/plain": [
       "(0.0, 100.0)"
      ]
     },
     "execution_count": 89,
     "metadata": {},
     "output_type": "execute_result"
    },
    {
     "data": {
      "image/png": "[encoded data removed]",
      "text/plain": [
       "<Figure size 432x288 with 1 Axes>"
      ]
     },
     "metadata": {
      "needs_background": "light"
     },
     "output_type": "display_data"
    }
   ],
   "source": [
    "import numpy as np\n",
    "import matplotlib.pyplot as plt\n",
    "coef = np.polyfit(y_true,y_pred,1)\n",
    "poly1d_fn = np.poly1d(coef) \n",
    "# poly1d_fn is now a function which takes in x and returns an estimate for y\n",
    "\n",
    "plt.plot(y_true,y_pred, 'yo', y_true, poly1d_fn(y_true), '--k')\n",
    "plt.xlim(0, 100)\n",
    "plt.ylim(0, 100)"
   ]
  },
  {
   "cell_type": "code",
   "execution_count": null,
   "metadata": {},
   "outputs": [],
   "source": []
  }
 ],
 "metadata": {
  "accelerator": "TPU",
  "colab": {
   "collapsed_sections": [],
   "name": "Concrete.ipynb",
   "provenance": [],
   "toc_visible": true
  },
  "kernelspec": {
   "display_name": "Python 3",
   "language": "python",
   "name": "python3"
  },
  "language_info": {
   "codemirror_mode": {
    "name": "ipython",
    "version": 3
   },
   "file_extension": ".py",
   "mimetype": "text/x-python",
   "name": "python",
   "nbconvert_exporter": "python",
   "pygments_lexer": "ipython3",
   "version": "3.7.10"
  }
 },
 "nbformat": 4,
 "nbformat_minor": 1
}
